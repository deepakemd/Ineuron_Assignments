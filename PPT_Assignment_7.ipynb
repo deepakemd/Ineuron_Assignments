{
 "cells": [
  {
   "cell_type": "markdown",
   "id": "f6fe47b0",
   "metadata": {},
   "source": [
    "# Assignment 7"
   ]
  },
  {
   "cell_type": "markdown",
   "id": "6ba21741",
   "metadata": {},
   "source": [
    "Question 1\n",
    "Given two strings s and t, determine if they are isomorphic.\n",
    "Two strings s and t are isomorphic if the characters in s can be replaced to get t.\n",
    "All occurrences of a character must be replaced with another character while preserving the order of characters. No two characters may map to the same character, but a character may map to itself.\n",
    "Example 1:\n",
    "Input: s = \"egg\", t = \"add\"\n",
    "Output: true\n",
    "\n"
   ]
  },
  {
   "cell_type": "code",
   "execution_count": 1,
   "id": "99c2c774",
   "metadata": {},
   "outputs": [
    {
     "name": "stdout",
     "output_type": "stream",
     "text": [
      "True\n"
     ]
    }
   ],
   "source": [
    "\n",
    "def isIsomorphic(s, t):\n",
    "    if len(s) != len(t):\n",
    "        return False\n",
    "    \n",
    "    s_to_t = {}\n",
    "    t_to_s = {}\n",
    "    \n",
    "    for i in range(len(s)):\n",
    "        if s[i] not in s_to_t and t[i] not in t_to_s:\n",
    "            s_to_t[s[i]] = t[i]\n",
    "            t_to_s[t[i]] = s[i]\n",
    "        elif s[i] in s_to_t and t[i] in t_to_s:\n",
    "            if s_to_t[s[i]] != t[i] or t_to_s[t[i]] != s[i]:\n",
    "                return False\n",
    "        else:\n",
    "            return False\n",
    "    \n",
    "    return True\n",
    "\n",
    "\n",
    "#Using the example you provided:\n",
    "    \n",
    "s = \"egg\"\n",
    "t = \"add\"\n",
    "print(isIsomorphic(s, t))  \n"
   ]
  },
  {
   "cell_type": "markdown",
   "id": "3ef81f96",
   "metadata": {},
   "source": [
    "Question 2\n",
    "Given a string num which represents an integer, return true if num is a strobogrammatic number.\n",
    "A strobogrammatic number is a number that looks the same when rotated 180 degrees (looked at upside down).\n",
    "Example 1:\n",
    "Input: num = \"69\"\n",
    "Output:\n",
    "True\n",
    "\n"
   ]
  },
  {
   "cell_type": "code",
   "execution_count": 2,
   "id": "1c8ef573",
   "metadata": {},
   "outputs": [
    {
     "name": "stdout",
     "output_type": "stream",
     "text": [
      "True\n"
     ]
    }
   ],
   "source": [
    "\n",
    "def isStrobogrammatic(num):\n",
    "    mapping = {'0': '0', '1': '1', '6': '9', '8': '8', '9': '6'}\n",
    "    left, right = 0, len(num) - 1\n",
    "    \n",
    "    while left <= right:\n",
    "        if num[left] not in mapping or num[right] not in mapping:\n",
    "            return False\n",
    "        if mapping[num[left]] != num[right]:\n",
    "            return False\n",
    "        left += 1\n",
    "        right -= 1\n",
    "    \n",
    "    return True\n",
    "\n",
    "#Using the example you provided:\n",
    "\n",
    "num = \"69\"\n",
    "print(isStrobogrammatic(num)) \n"
   ]
  },
  {
   "cell_type": "markdown",
   "id": "672e21e8",
   "metadata": {},
   "source": [
    "Question 4\n",
    "Given a string s, reverse the order of characters in each word within a sentence while still preserving whitespace and initial word order.\n",
    "Example 1:\n",
    "Input: s = \"Let's take LeetCode contest\"\n",
    "Output: \"s'teL ekat edoCteeL tsetnoc\"\n"
   ]
  },
  {
   "cell_type": "code",
   "execution_count": 4,
   "id": "fdcab860",
   "metadata": {},
   "outputs": [
    {
     "name": "stdout",
     "output_type": "stream",
     "text": [
      "s'teL ekat edoCteeL tsetnoc\n"
     ]
    }
   ],
   "source": [
    "\n",
    "def reverseWords(s):\n",
    "    words = s.split()  # Splitting the input string into words\n",
    "    reversed_words = [word[::-1] for word in words]  # Reversing each word\n",
    "    reversed_sentence = ' '.join(reversed_words)  # Joining the reversed words back into a string\n",
    "    return reversed_sentence\n",
    "\n",
    "#Using the example you provided:\n",
    "\n",
    "s = \"Let's take LeetCode contest\"\n",
    "print(reverseWords(s)) \n"
   ]
  },
  {
   "cell_type": "markdown",
   "id": "04603937",
   "metadata": {},
   "source": [
    " Question 5\n",
    "Given a string s and an integer k, reverse the first k characters for every 2k characters counting from the start of the string.\n",
    "If there are fewer than k characters left, reverse all of them. If there are less than 2k but greater than or equal to k characters, then reverse the first k characters and leave the other as original.\n",
    "Example 1:\n",
    "Input: s = \"abcdefg\", k = 2\n",
    "Output:\n",
    "\"bacdfeg\"\n"
   ]
  },
  {
   "cell_type": "code",
   "execution_count": 6,
   "id": "cc210f1f",
   "metadata": {},
   "outputs": [
    {
     "name": "stdout",
     "output_type": "stream",
     "text": [
      "bacdfeg\n"
     ]
    }
   ],
   "source": [
    "\n",
    "def reverseStr(s, k):\n",
    "    s = list(s)  # Converting the string into a list of characters\n",
    "    n = len(s)\n",
    "    \n",
    "    for i in range(0, n, 2*k):\n",
    "        start = i\n",
    "        end = min(i + k, n)  # Calculate the end index, considering if there are fewer than k characters remaining\n",
    "        s[start:end] = s[start:end][::-1]  # Reverse the characters in the range\n",
    "        \n",
    "    return ''.join(s)  # Convert the list back to a string\n",
    "\n",
    "\n",
    "#Using the example you provided:\n",
    "\n",
    "s = \"abcdefg\"\n",
    "k = 2\n",
    "print(reverseStr(s, k))\n"
   ]
  },
  {
   "cell_type": "markdown",
   "id": "cd48752e",
   "metadata": {},
   "source": [
    " Question 6\n",
    "Given two strings s and goal, return true if and only if s can become goal after some number of shifts on s.\n",
    "A shift on s consists of moving the leftmost character of s to the rightmost position.\n",
    "•\tFor example, if s = \"abcde\", then it will be \"bcdea\" after one shift.\n",
    "Example 1:\n",
    "Input: s = \"abcde\", goal = \"cdeab\"\n",
    "Output:\n",
    "True\n",
    "\n"
   ]
  },
  {
   "cell_type": "code",
   "execution_count": 7,
   "id": "a1ce2921",
   "metadata": {},
   "outputs": [
    {
     "name": "stdout",
     "output_type": "stream",
     "text": [
      "True\n"
     ]
    }
   ],
   "source": [
    "\n",
    "def rotateString(s, goal):\n",
    "    if len(s) != len(goal):\n",
    "        return False\n",
    "    \n",
    "    concat_s = s + s\n",
    "    if goal in concat_s:\n",
    "        return True\n",
    "    else:\n",
    "        return False\n",
    "\n",
    "#Using the example you provided:\n",
    "\n",
    "s = \"abcde\"\n",
    "goal = \"cdeab\"\n",
    "print(rotateString(s, goal))\n"
   ]
  },
  {
   "cell_type": "markdown",
   "id": "2c01f1df",
   "metadata": {},
   "source": [
    "Question 7\n",
    "Given two strings s and t, return true if they are equal when both are typed into empty text editors. '#' means a backspace character.\n",
    "Note that after backspacing an empty text, the text will continue empty.\n",
    "Example 1:\n",
    "Input: s = \"ab#c\", t = \"ad#c\"\n",
    "Output: true\n",
    "Explanation:\n",
    "Both s and t become \"ac\".\n",
    "\n"
   ]
  },
  {
   "cell_type": "code",
   "execution_count": 8,
   "id": "29c13c1d",
   "metadata": {},
   "outputs": [
    {
     "name": "stdout",
     "output_type": "stream",
     "text": [
      "True\n"
     ]
    }
   ],
   "source": [
    "\n",
    "def backspaceCompare(s, t):\n",
    "    stack_s = []\n",
    "    stack_t = []\n",
    "    \n",
    "    for char in s:\n",
    "        if char != '#':\n",
    "            stack_s.append(char)\n",
    "        elif stack_s:\n",
    "            stack_s.pop()\n",
    "    \n",
    "    for char in t:\n",
    "        if char != '#':\n",
    "            stack_t.append(char)\n",
    "        elif stack_t:\n",
    "            stack_t.pop()\n",
    "    \n",
    "    return stack_s == stack_t\n",
    "\n",
    "#Using the example you provided:\n",
    "\n",
    "s = \"ab#c\"\n",
    "t = \"ad#c\"\n",
    "print(backspaceCompare(s, t))\n"
   ]
  },
  {
   "cell_type": "markdown",
   "id": "f69dde7f",
   "metadata": {},
   "source": [
    "Question 8\n",
    "You are given an array coordinates, coordinates[i] = [x, y], where [x, y] represents the coordinate of a point. Check if these points make a straight line in the XY plane.\n",
    "Example 1:\n",
    "Input: coordinates = [[1,2],[2,3],[3,4],[4,5],[5,6],[6,7]]\n",
    "Output: true\n"
   ]
  },
  {
   "cell_type": "code",
   "execution_count": 9,
   "id": "16b4a221",
   "metadata": {},
   "outputs": [
    {
     "name": "stdout",
     "output_type": "stream",
     "text": [
      "True\n"
     ]
    }
   ],
   "source": [
    "\n",
    "def checkStraightLine(coordinates):\n",
    "    x1, y1 = coordinates[0]\n",
    "    x2, y2 = coordinates[1]\n",
    "    initial_slope = (y2 - y1) / (x2 - x1)\n",
    "\n",
    "    for i in range(2, len(coordinates)):\n",
    "        xi, yi = coordinates[i]\n",
    "        current_slope = (yi - y1) / (xi - x1)\n",
    "        if current_slope != initial_slope:\n",
    "            return False\n",
    "\n",
    "    return True\n",
    "\n",
    "#Using the example you provided:\n",
    "\n",
    "coordinates = [[1,2],[2,3],[3,4],[4,5],[5,6],[6,7]]\n",
    "print(checkStraightLine(coordinates))\n"
   ]
  },
  {
   "cell_type": "code",
   "execution_count": null,
   "id": "f565c51b",
   "metadata": {},
   "outputs": [],
   "source": []
  }
 ],
 "metadata": {
  "kernelspec": {
   "display_name": "Python 3 (ipykernel)",
   "language": "python",
   "name": "python3"
  },
  "language_info": {
   "codemirror_mode": {
    "name": "ipython",
    "version": 3
   },
   "file_extension": ".py",
   "mimetype": "text/x-python",
   "name": "python",
   "nbconvert_exporter": "python",
   "pygments_lexer": "ipython3",
   "version": "3.9.12"
  }
 },
 "nbformat": 4,
 "nbformat_minor": 5
}
