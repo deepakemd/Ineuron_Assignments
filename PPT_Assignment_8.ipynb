{
 "cells": [
  {
   "cell_type": "markdown",
   "id": "040d93f2",
   "metadata": {},
   "source": [
    "# Assignment 8"
   ]
  },
  {
   "cell_type": "markdown",
   "id": "cdc70ca2",
   "metadata": {},
   "source": [
    "Question 1\n",
    "Given two strings s1 and s2, return the lowest ASCII sum of deleted characters to make two strings equal.\n",
    "Example 1:\n",
    "Input: s1 = \"sea\", s2 = \"eat\"\n",
    "Output: 231\n",
    "Explanation: Deleting \"s\" from \"sea\" adds the ASCII value of \"s\" (115) to the sum.\n",
    "Deleting \"t\" from \"eat\" adds 116 to the sum.\n",
    "At the end, both strings are equal, and 115 + 116 = 231 is the minimum sum possible to achieve this.\n"
   ]
  },
  {
   "cell_type": "code",
   "execution_count": 1,
   "id": "d4807dbc",
   "metadata": {},
   "outputs": [
    {
     "name": "stdout",
     "output_type": "stream",
     "text": [
      "231\n"
     ]
    }
   ],
   "source": [
    "def minimumDeleteSum(s1, s2):\n",
    "    m, n = len(s1), len(s2)\n",
    "\n",
    "    # Initialize the dp table\n",
    "    dp = [[0] * (n + 1) for _ in range(m + 1)]\n",
    "\n",
    "    # Calculate the LCS\n",
    "    for i in range(1, m + 1):\n",
    "        for j in range(1, n + 1):\n",
    "            if s1[i - 1] == s2[j - 1]:\n",
    "                dp[i][j] = dp[i - 1][j - 1] + ord(s1[i - 1])\n",
    "            else:\n",
    "                dp[i][j] = max(dp[i - 1][j], dp[i][j - 1])\n",
    "\n",
    "    # Calculate the sum of deleted characters\n",
    "    sum_deleted = sum(ord(c) for c in s1) + sum(ord(c) for c in s2) - 2 * dp[m][n]\n",
    "\n",
    "    return sum_deleted\n",
    "\n",
    "s1 = \"sea\"\n",
    "s2 = \"eat\"\n",
    "print(minimumDeleteSum(s1, s2))  # Output: 231\n"
   ]
  },
  {
   "cell_type": "markdown",
   "id": "bde4bb51",
   "metadata": {},
   "source": [
    "Question 2\n",
    "Given a string s containing only three types of characters: '(', ')' and '*', return true if s is valid.\n",
    "The following rules define a valid string:\n",
    "•\tAny left parenthesis '(' must have a corresponding right parenthesis ')'.\n",
    "•\tAny right parenthesis ')' must have a corresponding left parenthesis '('.\n",
    "•\tLeft parenthesis '(' must go before the corresponding right parenthesis ')'.\n",
    "•\t'*' could be treated as a single right parenthesis ')' or a single left parenthesis '(' or an empty string \"\".\n",
    "Example 1:\n",
    "Input: s = \"()\"\n",
    "Output:\n",
    "true\n"
   ]
  },
  {
   "cell_type": "code",
   "execution_count": 2,
   "id": "1e5a0528",
   "metadata": {},
   "outputs": [
    {
     "name": "stdout",
     "output_type": "stream",
     "text": [
      "True\n"
     ]
    }
   ],
   "source": [
    "\n",
    "def checkValidString(s):\n",
    "    stack = []\n",
    "\n",
    "    for c in s:\n",
    "        if c == '(' or c == '*':\n",
    "            stack.append(c)\n",
    "        elif c == ')':\n",
    "            if stack and stack[-1] == '(':\n",
    "                stack.pop()\n",
    "            elif stack and stack[-1] == '*':\n",
    "                stack.pop()\n",
    "            else:\n",
    "                return False\n",
    "\n",
    "    balance = 0\n",
    "    for c in stack[::-1]:\n",
    "        if c == '(':\n",
    "            balance += 1\n",
    "        elif c == '*':\n",
    "            balance = max(0, balance - 1)\n",
    "        else:\n",
    "            balance += 1\n",
    "\n",
    "    return balance == 0\n",
    "\n",
    "s = \"()\"\n",
    "print(checkValidString(s)) \n"
   ]
  },
  {
   "cell_type": "markdown",
   "id": "283b9c17",
   "metadata": {},
   "source": [
    "Question 3\n",
    "Given two strings word1 and word2, return the minimum number of steps required to make word1 and word2 the same.\n",
    "In one step, you can delete exactly one character in either string.\n",
    "Example 1:\n",
    "Input: word1 = \"sea\", word2 = \"eat\"\n",
    "Output: 2\n",
    "Explanation: You need one step to make \"sea\" to \"ea\" and another step to make \"eat\" to \"ea\".\n"
   ]
  },
  {
   "cell_type": "code",
   "execution_count": 3,
   "id": "f7977040",
   "metadata": {},
   "outputs": [
    {
     "name": "stdout",
     "output_type": "stream",
     "text": [
      "2\n"
     ]
    }
   ],
   "source": [
    "\n",
    "def minSteps(word1, word2):\n",
    "    m, n = len(word1), len(word2)\n",
    "\n",
    "    # Initialize the dp table\n",
    "    dp = [[0] * (n + 1) for _ in range(m + 1)]\n",
    "\n",
    "    # Calculate the LCS\n",
    "    for i in range(1, m + 1):\n",
    "        for j in range(1, n + 1):\n",
    "            if word1[i - 1] == word2[j - 1]:\n",
    "                dp[i][j] = dp[i - 1][j - 1] + 1\n",
    "            else:\n",
    "                dp[i][j] = max(dp[i - 1][j], dp[i][j - 1])\n",
    "\n",
    "    # Calculate the minimum number of steps\n",
    "    min_steps = m + n - 2 * dp[m][n]\n",
    "\n",
    "    return min_steps\n",
    "\n",
    "word1 = \"sea\"\n",
    "word2 = \"eat\"\n",
    "print(minSteps(word1, word2)) \n"
   ]
  },
  {
   "cell_type": "markdown",
   "id": "dac1a419",
   "metadata": {},
   "source": [
    "Question 4\n",
    "You need to construct a binary tree from a string consisting of parenthesis and integers.\n",
    "The whole input represents a binary tree. It contains an integer followed by zero, one or two pairs of parenthesis. The integer represents the root's value and a pair of parenthesis contains a child binary tree with the same structure. You always start to construct the left child node of the parent first if it exists.\n",
    "</aside>\n",
    "Input: s = \"4(2(3)(1))(6(5))\"\n",
    "Output: [4,2,6,3,1,5]\n"
   ]
  },
  {
   "cell_type": "code",
   "execution_count": 4,
   "id": "5eab8418",
   "metadata": {},
   "outputs": [
    {
     "name": "stdout",
     "output_type": "stream",
     "text": [
      "[3, 2, 1, 4, 5, 6]\n"
     ]
    }
   ],
   "source": [
    "\n",
    "class TreeNode:\n",
    "    def __init__(self, val=0, left=None, right=None):\n",
    "        self.val = val\n",
    "        self.left = left\n",
    "        self.right = right\n",
    "\n",
    "def str2tree(s):\n",
    "    if not s:\n",
    "        return None\n",
    "\n",
    "    # Find the value of the current node\n",
    "    num_end = 0\n",
    "    while num_end < len(s) and (s[num_end].isdigit() or s[num_end] == '-'):\n",
    "        num_end += 1\n",
    "    val = int(s[:num_end])\n",
    "\n",
    "    # Construct the current node\n",
    "    node = TreeNode(val)\n",
    "\n",
    "    # Check if there are any children\n",
    "    if num_end < len(s):\n",
    "        # Find the indices of the left and right children\n",
    "        left_start = s.find('(', num_end)\n",
    "        left_end = find_matching_parenthesis(s, left_start)\n",
    "        node.left = str2tree(s[left_start + 1:left_end])\n",
    "\n",
    "        if left_end + 1 < len(s):\n",
    "            right_start = s.find('(', left_end + 1)\n",
    "            right_end = find_matching_parenthesis(s, right_start)\n",
    "            node.right = str2tree(s[right_start + 1:right_end])\n",
    "\n",
    "    return node\n",
    "\n",
    "def find_matching_parenthesis(s, start):\n",
    "    count = 1\n",
    "    for i in range(start + 1, len(s)):\n",
    "        if s[i] == '(':\n",
    "            count += 1\n",
    "        elif s[i] == ')':\n",
    "            count -= 1\n",
    "            if count == 0:\n",
    "                return i\n",
    "    return -1\n",
    "\n",
    "def inorderTraversal(root):\n",
    "    if not root:\n",
    "        return []\n",
    "    return inorderTraversal(root.left) + [root.val] + inorderTraversal(root.right)\n",
    "\n",
    "\n",
    "s = \"4(2(3)(1))(6(5))\"\n",
    "tree = str2tree(s)\n",
    "result = inorderTraversal(tree)\n",
    "print(result) \n"
   ]
  },
  {
   "cell_type": "markdown",
   "id": "85ef41a1",
   "metadata": {},
   "source": [
    " Question 5\n",
    "Given an array of characters chars, compress it using the following algorithm:\n",
    "Begin with an empty string s. For each group of consecutive repeating characters in chars:\n",
    "•\tIf the group's length is 1, append the character to s.\n",
    "•\tOtherwise, append the character followed by the group's length.\n",
    "The compressed string s should not be returned separately, but instead, be stored in the input character array chars. Note that group lengths that are 10 or longer will be split into multiple characters in chars.\n",
    "After you are done modifying the input array, return the new length of the array.\n",
    "You must write an algorithm that uses only constant extra space.\n",
    "Example 1:\n",
    "Input: chars = [\"a\",\"a\",\"b\",\"b\",\"c\",\"c\",\"c\"]\n",
    "Output: Return 6, and the first 6 characters of the input array should be: [\"a\",\"2\",\"b\",\"2\",\"c\",\"3\"]\n",
    "Explanation:\n",
    "The groups are \"aa\", \"bb\", and \"ccc\". This compresses to \"a2b2c3\".\n"
   ]
  },
  {
   "cell_type": "code",
   "execution_count": 5,
   "id": "82d1d997",
   "metadata": {},
   "outputs": [
    {
     "name": "stdout",
     "output_type": "stream",
     "text": [
      "6\n",
      "['a', '2', 'b', '2', 'c', '3']\n"
     ]
    }
   ],
   "source": [
    "\n",
    "def compress(chars):\n",
    "    readPtr = 0  # Pointer to iterate through the array\n",
    "    writePtr = 0  # Pointer to update the compressed array\n",
    "\n",
    "    # Iterate through the array\n",
    "    while readPtr < len(chars):\n",
    "        currChar = chars[readPtr]  # Current character\n",
    "        count = 0  # Count of consecutive repeating characters\n",
    "\n",
    "        # Count the consecutive repeating characters\n",
    "        while readPtr < len(chars) and chars[readPtr] == currChar:\n",
    "            readPtr += 1\n",
    "            count += 1\n",
    "\n",
    "        # Update the compressed array\n",
    "        chars[writePtr] = currChar\n",
    "        writePtr += 1\n",
    "\n",
    "        # Append the count if greater than 1\n",
    "        if count > 1:\n",
    "            countStr = str(count)\n",
    "            for c in countStr:\n",
    "                chars[writePtr] = c\n",
    "                writePtr += 1\n",
    "\n",
    "    return writePtr\n",
    "\n",
    "\n",
    "chars = [\"a\", \"a\", \"b\", \"b\", \"c\", \"c\", \"c\"]\n",
    "compressedLength = compress(chars)\n",
    "compressedArray = chars[:compressedLength]\n",
    "print(compressedLength)  # Output: 6\n",
    "print(compressedArray)  # Output: [\"a\", \"2\", \"b\", \"2\", \"c\", \"3\"]\n"
   ]
  },
  {
   "cell_type": "markdown",
   "id": "c23af00a",
   "metadata": {},
   "source": [
    "Question 6\n",
    "Given two strings s and p, return an array of all the start indices of p*'s anagrams in* s. You may return the answer in any order.\n",
    "An Anagram is a word or phrase formed by rearranging the letters of a different word or phrase, typically using all the original letters exactly once.\n",
    "Example 1:\n",
    "Input: s = \"cbaebabacd\", p = \"abc\"\n",
    "Output: [0,6]\n",
    "Explanation:\n",
    "The substring with start index = 0 is \"cba\", which is an anagram of \"abc\".\n",
    "The substring with start index = 6 is \"bac\", which is an anagram of \"abc\".\n",
    "\n"
   ]
  },
  {
   "cell_type": "code",
   "execution_count": 8,
   "id": "b322fc92",
   "metadata": {},
   "outputs": [
    {
     "name": "stdout",
     "output_type": "stream",
     "text": [
      "[0, 6]\n"
     ]
    }
   ],
   "source": [
    "\n",
    "from collections import Counter\n",
    "\n",
    "def findAnagrams(s, p):\n",
    "    result = []\n",
    "    len_s, len_p = len(s), len(p)\n",
    "    p_counter = Counter(p)\n",
    "    window_counter = Counter(s[:len_p])\n",
    "\n",
    "    if window_counter == p_counter:\n",
    "        result.append(0)\n",
    "\n",
    "    # Slide the window through s\n",
    "    for i in range(1, len_s - len_p + 1):\n",
    "        window_counter[s[i - 1]] -= 1\n",
    "        if window_counter[s[i - 1]] == 0:\n",
    "            del window_counter[s[i - 1]]\n",
    "        window_counter[s[i + len_p - 1]] += 1\n",
    "\n",
    "        if window_counter == p_counter:\n",
    "            result.append(i)\n",
    "    return result\n",
    "\n",
    "s = \"cbaebabacd\"\n",
    "p = \"abc\"\n",
    "indices = findAnagrams(s, p)\n",
    "print(indices)  # Output: [0, 6]\n"
   ]
  },
  {
   "cell_type": "markdown",
   "id": "4b228fa4",
   "metadata": {},
   "source": [
    "Question 7\n",
    "Given an encoded string, return its decoded string.\n",
    "The encoding rule is: k[encoded_string], where the encoded_string inside the square brackets is being repeated exactly k times. Note that k is guaranteed to be a positive integer.\n",
    "You may assume that the input string is always valid; there are no extra white spaces, square brackets are well-formed, etc. Furthermore, you may assume that the original data does not contain any digits and that digits are only for those repeat numbers, k. For example, there will not be input like 3a or 2[4].\n",
    "The test cases are generated so that the length of the output will never exceed 105.\n",
    "Example 1:\n",
    "Input: s = \"3[a]2[bc]\"\n",
    "Output: \"aaabcbc\"\n",
    "\n"
   ]
  },
  {
   "cell_type": "code",
   "execution_count": 9,
   "id": "5872020d",
   "metadata": {},
   "outputs": [
    {
     "name": "stdout",
     "output_type": "stream",
     "text": [
      "aaabcbc\n"
     ]
    }
   ],
   "source": [
    "def decodeString(s):\n",
    "    stack = []\n",
    "    curr_result = \"\"\n",
    "    curr_k = 0\n",
    "\n",
    "    for char in s:\n",
    "        if char.isdigit():\n",
    "            curr_k = curr_k * 10 + int(char)\n",
    "        elif char == \"[\":\n",
    "            stack.append((curr_result, curr_k))\n",
    "            curr_result = \"\"\n",
    "            curr_k = 0\n",
    "        elif char == \"]\":\n",
    "            prev_result, prev_k = stack.pop()\n",
    "            curr_result = prev_result + curr_result * prev_k\n",
    "        else:\n",
    "            curr_result += char\n",
    "\n",
    "    return curr_result\n",
    "\n",
    "\n",
    "s = \"3[a]2[bc]\"\n",
    "decoded_string = decodeString(s)\n",
    "print(decoded_string)  # Output: \"aaabcbc\"\n"
   ]
  },
  {
   "cell_type": "markdown",
   "id": "ed829b16",
   "metadata": {},
   "source": [
    "Question 8\n",
    "Given two strings s and goal, return true if you can swap two letters in s so the result is equal to goal*, otherwise, return* false*.*\n",
    "Swapping letters is defined as taking two indices i and j (0-indexed) such that i != j and swapping the characters at s[i] and s[j].\n",
    "•\tFor example, swapping at indices 0 and 2 in \"abcd\" results in \"cbad\".\n",
    "Example 1:\n",
    "Input: s = \"ab\", goal = \"ba\"\n",
    "Output: true\n",
    "Explanation: You can swap s[0] = 'a' and s[1] = 'b' to get \"ba\", which is equal to goal.\n",
    "\n"
   ]
  },
  {
   "cell_type": "code",
   "execution_count": 10,
   "id": "63e59801",
   "metadata": {},
   "outputs": [
    {
     "name": "stdout",
     "output_type": "stream",
     "text": [
      "True\n"
     ]
    }
   ],
   "source": [
    "\n",
    "def buddyStrings(s, goal):\n",
    "    # Check if the lengths of the strings are the same\n",
    "    if len(s) != len(goal):\n",
    "        return False\n",
    "\n",
    "    # Check if the strings are equal and have at least one repeated character\n",
    "    if s == goal and len(set(s)) < len(s):\n",
    "        return True\n",
    "\n",
    "    # Find the positions of the mismatched characters\n",
    "    mismatched = []\n",
    "    for i in range(len(s)):\n",
    "        if s[i] != goal[i]:\n",
    "            mismatched.append(i)\n",
    "\n",
    "    # Check if there are exactly two mismatched characters\n",
    "    if len(mismatched) != 2:\n",
    "        return False\n",
    "\n",
    "    # Check if swapping the characters will make the strings equal\n",
    "    i, j = mismatched\n",
    "    return s[i] == goal[j] and s[j] == goal[i]\n",
    "\n",
    "\n",
    "s = \"ab\"\n",
    "goal = \"ba\"\n",
    "result = buddyStrings(s, goal)\n",
    "print(result)  # Output: True\n"
   ]
  },
  {
   "cell_type": "code",
   "execution_count": null,
   "id": "84154ef0",
   "metadata": {},
   "outputs": [],
   "source": []
  }
 ],
 "metadata": {
  "kernelspec": {
   "display_name": "Python 3 (ipykernel)",
   "language": "python",
   "name": "python3"
  },
  "language_info": {
   "codemirror_mode": {
    "name": "ipython",
    "version": 3
   },
   "file_extension": ".py",
   "mimetype": "text/x-python",
   "name": "python",
   "nbconvert_exporter": "python",
   "pygments_lexer": "ipython3",
   "version": "3.9.12"
  }
 },
 "nbformat": 4,
 "nbformat_minor": 5
}
