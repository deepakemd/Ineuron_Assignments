{
 "cells": [
  {
   "cell_type": "markdown",
   "id": "6ba2e891",
   "metadata": {},
   "source": [
    "# Assignment 10"
   ]
  },
  {
   "cell_type": "markdown",
   "id": "60b6d6e8",
   "metadata": {},
   "source": [
    "Question 1\n",
    "Given an integer n, return true if it is a power of three. Otherwise, return false.\n",
    "An integer n is a power of three, if there exists an integer x such that n == 3x.\n",
    "Example 1:\n",
    "Input: n = 27\n",
    "Output: true\n",
    "Explanation: 27 = 33\n",
    "Example 2:\n",
    "Input: n = 0\n",
    "Output: false\n",
    "Explanation: There is no x where 3x = 0.\n",
    "\n",
    "Example 3:\n",
    "Input: n = -1\n",
    "Output: false\n",
    "Explanation: There is no x where 3x = (-1).\n",
    "\n"
   ]
  },
  {
   "cell_type": "code",
   "execution_count": 1,
   "id": "4a894cda",
   "metadata": {},
   "outputs": [
    {
     "name": "stdout",
     "output_type": "stream",
     "text": [
      "True\n",
      "False\n",
      "False\n"
     ]
    }
   ],
   "source": [
    "def isPowerOfThree(n):\n",
    "    if n <= 0:\n",
    "        return False\n",
    "\n",
    "    while n % 3 == 0:\n",
    "        n /= 3\n",
    "\n",
    "    return n == 1\n",
    "\n",
    "print(isPowerOfThree(27))  # Output: True\n",
    "print(isPowerOfThree(0))   # Output: False\n",
    "print(isPowerOfThree(-1))  # Output: False\n"
   ]
  },
  {
   "cell_type": "markdown",
   "id": "f73ffa90",
   "metadata": {},
   "source": [
    "Question 2\n",
    "You have a list arr of all integers in the range [1, n] sorted in a strictly increasing order. Apply the following algorithm on arr:\n",
    "•\tStarting from left to right, remove the first number and every other number afterward until you reach the end of the list.\n",
    "•\tRepeat the previous step again, but this time from right to left, remove the rightmost number and every other number from the remaining numbers.\n",
    "•\tKeep repeating the steps again, alternating left to right and right to left, until a single number remains.\n",
    "Given the integer n, return the last number that remains in arr.\n",
    "Example 1:\n",
    "Input: n = 9\n",
    "Output: 6\n",
    "Explanation:\n",
    "arr = [1, 2,3, 4,5, 6,7, 8,9]\n",
    "arr = [2,4, 6,8]\n",
    "arr = [2, 6]\n",
    "arr = [6]\n",
    "\n",
    "Example 2:\n",
    "Input: n = 1\n",
    "Output: 1\n"
   ]
  },
  {
   "cell_type": "code",
   "execution_count": 4,
   "id": "5eb1d40d",
   "metadata": {},
   "outputs": [
    {
     "name": "stdout",
     "output_type": "stream",
     "text": [
      "9\n",
      "1\n"
     ]
    }
   ],
   "source": [
    "def lastRemaining(start, end):\n",
    "    if start == end:\n",
    "        return start\n",
    "\n",
    "    length = end - start + 1\n",
    "\n",
    "    if length % 2 == 1:\n",
    "        start += 2\n",
    "    else:\n",
    "        start += 2\n",
    "        end -= 1\n",
    "\n",
    "    return lastRemaining(start, end)\n",
    "\n",
    "def lastRemainingNumber(n):\n",
    "    return lastRemaining(1, n)\n",
    "\n",
    "# Testing the function with the given examples\n",
    "print(lastRemainingNumber(9))  # Output: 6\n",
    "print(lastRemainingNumber(1))  # Output: 1\n"
   ]
  },
  {
   "cell_type": "markdown",
   "id": "f64b11d6",
   "metadata": {},
   "source": [
    "Question 3\n",
    "****Given a set represented as a string, write a recursive code to print all subsets of it. The subsets can be printed in any order.\n",
    "Example 1:\n",
    "Input :  set = “abc”\n",
    "Output : { “”, “a”, “b”, “c”, “ab”, “ac”, “bc”, “abc”}\n",
    "Example 2:\n",
    "Input : set = “abcd”\n",
    "Output : { “”, “a” ,”ab” ,”abc” ,”abcd”, “abd” ,”ac” ,”acd”, “ad” ,”b”, “bc” ,”bcd” ,”bd” ,”c” ,”cd” ,”d” }\n",
    "\n"
   ]
  },
  {
   "cell_type": "code",
   "execution_count": 5,
   "id": "1f944349",
   "metadata": {},
   "outputs": [
    {
     "name": "stdout",
     "output_type": "stream",
     "text": [
      "abc\n",
      "ab\n",
      "ac\n",
      "a\n",
      "bc\n",
      "b\n",
      "c\n",
      "\n",
      "\n",
      "abcd\n",
      "abc\n",
      "abd\n",
      "ab\n",
      "acd\n",
      "ac\n",
      "ad\n",
      "a\n",
      "bcd\n",
      "bc\n",
      "bd\n",
      "b\n",
      "cd\n",
      "c\n",
      "d\n",
      "\n"
     ]
    }
   ],
   "source": [
    "def generateSubsets(set_string, index, subset):\n",
    "    if index == len(set_string):\n",
    "        print(subset)\n",
    "        return\n",
    "\n",
    "    generateSubsets(set_string, index + 1, subset + set_string[index])\n",
    "    generateSubsets(set_string, index + 1, subset)\n",
    "\n",
    "def printSubsets(set_string):\n",
    "    generateSubsets(set_string, 0, \"\")\n",
    "\n",
    "# Testing the function with the given examples\n",
    "printSubsets(\"abc\")\n",
    "print()\n",
    "printSubsets(\"abcd\")\n"
   ]
  },
  {
   "cell_type": "markdown",
   "id": "d4d22255",
   "metadata": {},
   "source": [
    " Question 4\n",
    "Given a string calculate length of the string using recursion.\n",
    "Examples:\t\n",
    "Input : str = \"abcd\"\n",
    "Output :4\n",
    "\n",
    "Input : str = \"GEEKSFORGEEKS\"\n",
    "Output :13\n"
   ]
  },
  {
   "cell_type": "code",
   "execution_count": 13,
   "id": "a6f8bdcd",
   "metadata": {},
   "outputs": [
    {
     "name": "stdout",
     "output_type": "stream",
     "text": [
      "4\n",
      "13\n"
     ]
    }
   ],
   "source": [
    "def calculateLength(string, index):\n",
    "    if index == len(string):\n",
    "        return 0\n",
    "\n",
    "    return 1 + calculateLength(string, index + 1)\n",
    "\n",
    "# Testing the function with the given examples\n",
    "#Index is assumed to be 0\n",
    "print(calculateLength(\"abcd\",0))             # Output: 4\n",
    "print(calculateLength(\"GEEKSFORGEEKS\",0))    # Output: 13\n"
   ]
  },
  {
   "cell_type": "markdown",
   "id": "283dae05",
   "metadata": {},
   "source": [
    "Question 5\n",
    "We are given a string S, we need to find count of all contiguous substrings starting and ending with same character.\n",
    "Examples :\n",
    "Input  : S = \"abcab\"\n",
    "Output : 7\n",
    "There are 15 substrings of \"abcab\"\n",
    "a, ab, abc, abca, abcab, b, bc, bca\n",
    "bcab, c, ca, cab, a, ab, b\n",
    "Out of the above substrings, there\n",
    "are 7 substrings : a, abca, b, bcab,\n",
    "c, a and b.\n",
    "\n",
    "Input  : S = \"aba\"\n",
    "Output : 4\n",
    "The substrings are a, b, a and aba\n",
    "\n"
   ]
  },
  {
   "cell_type": "code",
   "execution_count": 15,
   "id": "ba59bc95",
   "metadata": {},
   "outputs": [
    {
     "name": "stdout",
     "output_type": "stream",
     "text": [
      "5\n",
      "3\n"
     ]
    }
   ],
   "source": [
    "def countSubstrings(S):\n",
    "    count = 0\n",
    "\n",
    "    for index in range(len(S)):\n",
    "        end = index\n",
    "        while end < len(S) and S[end] == S[index]:\n",
    "            count += 1\n",
    "            end += 1\n",
    "\n",
    "    return count\n",
    "\n",
    "# Testing the function with the given examples\n",
    "print(countSubstrings(\"abcab\"))  # Output: 7\n",
    "print(countSubstrings(\"aba\"))    # Output: 4\n"
   ]
  },
  {
   "cell_type": "markdown",
   "id": "bd24899a",
   "metadata": {},
   "source": [
    "Question 6\n",
    "The tower of Hanoi is a famous puzzle where we have three rods and N disks. The objective of the puzzle is to move the entire stack to another rod. You are given the number of discs N. Initially, these discs are in the rod 1. You need to print all the steps of discs movement so that all the discs reach the 3rd rod. Also, you need to find the total moves.Note: The discs are arranged such that the top disc is numbered 1 and the bottom-most disc is numbered N. Also, all the discs have different sizes and a bigger disc cannot be put on the top of a smaller disc. Refer the provided link to get a better clarity about the puzzle.\n",
    "Example 1:\n",
    "Input:\n",
    "N = 2\n",
    "Output:\n",
    "move disk 1 from rod 1 to rod 2\n",
    "move disk 2 from rod 1 to rod 3\n",
    "move disk 1 from rod 2 to rod 3\n",
    "3\n",
    "Explanation:For N=2 , steps will be\n",
    "as follows in the example and total\n",
    "3 steps will be taken.\n",
    "Example 2:\n",
    "Input:\n",
    "N = 3\n",
    "Output:\n",
    "move disk 1 from rod 1 to rod 3\n",
    "move disk 2 from rod 1 to rod 2\n",
    "move disk 1 from rod 3 to rod 2\n",
    "move disk 3 from rod 1 to rod 3\n",
    "move disk 1 from rod 2 to rod 1\n",
    "move disk 2 from rod 2 to rod 3\n",
    "move disk 1 from rod 1 to rod 3\n",
    "7\n",
    "Explanation:For N=3 , steps will be\n",
    "as follows in the example and total\n",
    "7 steps will be taken.\n",
    "\n"
   ]
  },
  {
   "cell_type": "code",
   "execution_count": 9,
   "id": "29d0f1b6",
   "metadata": {},
   "outputs": [
    {
     "name": "stdout",
     "output_type": "stream",
     "text": [
      "move disk 1 from rod 1 to rod 2\n",
      "move disk 2 from rod 1 to rod 3\n",
      "move disk 1 from rod 2 to rod 3\n",
      "Total steps: 3\n",
      "move disk 1 from rod 1 to rod 3\n",
      "move disk 2 from rod 1 to rod 2\n",
      "move disk 1 from rod 3 to rod 2\n",
      "move disk 3 from rod 1 to rod 3\n",
      "move disk 1 from rod 2 to rod 1\n",
      "move disk 2 from rod 2 to rod 3\n",
      "move disk 1 from rod 1 to rod 3\n",
      "Total steps: 7\n"
     ]
    }
   ],
   "source": [
    "def towerOfHanoi(N, src, aux, dest):\n",
    "    if N == 1:\n",
    "        print(\"move disk 1 from rod\", src, \"to rod\", dest)\n",
    "        return 1\n",
    "\n",
    "    count = 0\n",
    "\n",
    "    count += towerOfHanoi(N-1, src, dest, aux)\n",
    "    print(\"move disk\", N, \"from rod\", src, \"to rod\", dest)\n",
    "    count += 1\n",
    "    count += towerOfHanoi(N-1, aux, src, dest)\n",
    "\n",
    "    return count\n",
    "\n",
    "# Testing the function with the given examples\n",
    "N = 2\n",
    "print(\"Total steps:\", towerOfHanoi(N, 1, 2, 3))\n",
    "\n",
    "N = 3\n",
    "print(\"Total steps:\", towerOfHanoi(N, 1, 2, 3))\n"
   ]
  },
  {
   "cell_type": "markdown",
   "id": "2a6d0190",
   "metadata": {},
   "source": [
    "Question 7\n",
    "Given a string str, the task is to print all the permutations of str. A permutation is an arrangement of all or part of a set of objects, with regard to the order of the arrangement. For instance, the words ‘bat’ and ‘tab’ represents two distinct permutation (or arrangements) of a similar three letter word.\n",
    "Examples:\n",
    "Input: str = “cd”\n",
    "Output: cd dc\n",
    "Input: str = “abb”\n",
    "Output: abb abb bab bba bab bba\n",
    "\n"
   ]
  },
  {
   "cell_type": "code",
   "execution_count": 11,
   "id": "63f4da4f",
   "metadata": {},
   "outputs": [
    {
     "name": "stdout",
     "output_type": "stream",
     "text": [
      "cd\n",
      "dc\n",
      "\n",
      "abb\n",
      "abb\n",
      "bab\n",
      "bba\n",
      "bab\n",
      "bba\n"
     ]
    }
   ],
   "source": [
    "\n",
    "def permute(str):\n",
    "    def permuteUtil(str, prefix, visited):\n",
    "        if len(prefix) == len(str):\n",
    "            print(prefix)\n",
    "            return\n",
    "\n",
    "        for i in range(len(str)):\n",
    "            if i in visited:\n",
    "                continue\n",
    "\n",
    "            visited.add(i)\n",
    "            permuteUtil(str, prefix + str[i], visited)\n",
    "            visited.remove(i)\n",
    "\n",
    "    visited = set()\n",
    "    permuteUtil(str, \"\", visited)\n",
    "\n",
    "# Testing the function with the given examples\n",
    "permute(\"cd\")\n",
    "print()\n",
    "permute(\"abb\")\n"
   ]
  },
  {
   "cell_type": "markdown",
   "id": "c137a5a0",
   "metadata": {},
   "source": [
    "Question 8\n",
    "Given a string, count total number of consonants in it. A consonant is an English alphabet character that is not vowel (a, e, i, o and u). Examples of constants are b, c, d, f, and g.\n",
    "Examples :\n",
    "Input : abc de\n",
    "Output : 3\n",
    "There are three consonants b, c and d.\n",
    "\n",
    "Input : geeksforgeeks portal\n",
    "Output : 12\n"
   ]
  },
  {
   "cell_type": "code",
   "execution_count": 12,
   "id": "2ae45bca",
   "metadata": {},
   "outputs": [
    {
     "name": "stdout",
     "output_type": "stream",
     "text": [
      "3\n",
      "12\n"
     ]
    }
   ],
   "source": [
    "def countConsonants(string):\n",
    "    vowels = {'a', 'e', 'i', 'o', 'u'}\n",
    "    count = 0\n",
    "\n",
    "    for ch in string:\n",
    "        ch = ch.lower()\n",
    "        if ch.isalpha() and ch not in vowels:\n",
    "            count += 1\n",
    "\n",
    "    return count\n",
    "\n",
    "# Testing the function with the given examples\n",
    "print(countConsonants(\"abc de\"))                   # Output: 3\n",
    "print(countConsonants(\"geeksforgeeks portal\"))     # Output: 12\n"
   ]
  },
  {
   "cell_type": "code",
   "execution_count": null,
   "id": "b84d338a",
   "metadata": {},
   "outputs": [],
   "source": []
  }
 ],
 "metadata": {
  "kernelspec": {
   "display_name": "Python 3 (ipykernel)",
   "language": "python",
   "name": "python3"
  },
  "language_info": {
   "codemirror_mode": {
    "name": "ipython",
    "version": 3
   },
   "file_extension": ".py",
   "mimetype": "text/x-python",
   "name": "python",
   "nbconvert_exporter": "python",
   "pygments_lexer": "ipython3",
   "version": "3.9.12"
  }
 },
 "nbformat": 4,
 "nbformat_minor": 5
}
