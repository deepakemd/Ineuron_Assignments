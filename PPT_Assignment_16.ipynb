{
 "cells": [
  {
   "cell_type": "markdown",
   "id": "412cb70a",
   "metadata": {},
   "source": [
    "# Assignment 16"
   ]
  },
  {
   "cell_type": "markdown",
   "id": "015ee5e8",
   "metadata": {},
   "source": [
    "Question 1:\n",
    "Given an array, for each element find the value of the nearest element to the right which is having a frequency greater than that of the current element. If there does not exist an answer for a position, then make the value ‘-1’.\n",
    "Examples:\n",
    "Input: a[] = [1, 1, 2, 3, 4, 2, 1]\n",
    "Output : [-1, -1, 1, 2, 2, 1, -1]\n",
    "\n",
    "Explanation:\n",
    "Given array a[] = [1, 1, 2, 3, 4, 2, 1]\n",
    "Frequency of each element is: 3, 3, 2, 1, 1, 2, 3\n",
    "\n",
    "Lets calls Next Greater Frequency element as NGF\n",
    "1. For element a[0] = 1 which has a frequency = 3,\n",
    "   As it has frequency of 3 and no other next element\n",
    "   has frequency more than 3 so  '-1'\n",
    "2. For element a[1] = 1 it will be -1 same logic\n",
    "   like a[0]\n",
    "3. For element a[2] = 2 which has frequency = 2,\n",
    "   NGF element is 1 at position = 6  with frequency\n",
    "   of 3 > 2\n",
    "4. For element a[3] = 3 which has frequency = 1,\n",
    "   NGF element is 2 at position = 5 with frequency\n",
    "   of 2 > 1\n",
    "5. For element a[4] = 4 which has frequency = 1,\n",
    "   NGF element is 2 at position = 5 with frequency\n",
    "   of 2 > 1\n",
    "6. For element a[5] = 2 which has frequency = 2,\n",
    "   NGF element is 1 at position = 6 with frequency\n",
    "   of 3 > 2\n",
    "7. For element a[6] = 1 there is no element to its\n",
    "   right, hence -1\n",
    "Input : a[] = [1, 1, 1, 2, 2, 2, 2, 11, 3, 3]\n",
    "Output : [2, 2, 2, -1, -1, -1, -1, 3, -1, -1]\n",
    "\n"
   ]
  },
  {
   "cell_type": "code",
   "execution_count": 1,
   "id": "197176b0",
   "metadata": {},
   "outputs": [
    {
     "name": "stdout",
     "output_type": "stream",
     "text": [
      "[-1, -1, 1, 2, 2, 1, -1]\n",
      "[2, 2, 2, -1, -1, -1, -1, 3, -1, -1]\n"
     ]
    }
   ],
   "source": [
    "def find_nearest_greater_frequency(arr):\n",
    "    frequency = {}\n",
    "    result = [-1] * len(arr)\n",
    "\n",
    "    for i in range(len(arr)-1, -1, -1):\n",
    "        if arr[i] in frequency:\n",
    "            frequency[arr[i]] += 1\n",
    "        else:\n",
    "            frequency[arr[i]] = 1\n",
    "\n",
    "    for i in range(len(arr)-1):\n",
    "        for j in range(i+1, len(arr)):\n",
    "            if frequency[arr[j]] > frequency[arr[i]]:\n",
    "                result[i] = arr[j]\n",
    "                break\n",
    "\n",
    "    return result\n",
    "\n",
    "arr1 = [1, 1, 2, 3, 4, 2, 1]\n",
    "print(find_nearest_greater_frequency(arr1))\n",
    "# Output: [-1, -1, 1, 2, 2, 1, -1]\n",
    "\n",
    "arr2 = [1, 1, 1, 2, 2, 2, 2, 11, 3, 3]\n",
    "print(find_nearest_greater_frequency(arr2))\n",
    "# Output: [2, 2, 2, -1, -1, -1, -1, 3, -1, -1]\n",
    "\n"
   ]
  },
  {
   "cell_type": "markdown",
   "id": "2fa0e7b4",
   "metadata": {},
   "source": [
    "Question 2\n",
    "Given a stack of integers, sort it in ascending order using another temporary stack.\n",
    "Examples:\n",
    "Input : [34, 3, 31, 98, 92, 23]\n",
    "Output : [3, 23, 31, 34, 92, 98]\n",
    "\n",
    "Input : [3, 5, 1, 4, 2, 8]\n",
    "Output : [1, 2, 3, 4, 5, 8]\n",
    "\n"
   ]
  },
  {
   "cell_type": "code",
   "execution_count": 2,
   "id": "472be3ec",
   "metadata": {},
   "outputs": [
    {
     "name": "stdout",
     "output_type": "stream",
     "text": [
      "[3, 23, 31, 34, 92, 98]\n",
      "[1, 2, 3, 4, 5, 8]\n"
     ]
    }
   ],
   "source": [
    "def sort_stack(stack):\n",
    "    temp_stack = []\n",
    "\n",
    "    while stack:\n",
    "        temp = stack.pop()\n",
    "\n",
    "        while temp_stack and temp_stack[-1] > temp:\n",
    "            stack.append(temp_stack.pop())\n",
    "\n",
    "        temp_stack.append(temp)\n",
    "\n",
    "    while temp_stack:\n",
    "        stack.append(temp_stack.pop())\n",
    "\n",
    "    # Reverse the stack to get the sorted order\n",
    "    stack.reverse()\n",
    "\n",
    "    return stack\n",
    "stack1 = [34, 3, 31, 98, 92, 23]\n",
    "print(sort_stack(stack1))\n",
    "# Output: [3, 23, 31, 34, 92, 98]\n",
    "\n",
    "stack2 = [3, 5, 1, 4, 2, 8]\n",
    "print(sort_stack(stack2))\n",
    "# Output: [1, 2, 3, 4, 5, 8]\n",
    "\n"
   ]
  },
  {
   "cell_type": "markdown",
   "id": "1641ed55",
   "metadata": {},
   "source": [
    "Question 3\n",
    "Given a stack with push(), pop(), and empty() operations, The task is to delete the middle element ****of it without using any additional data structure.\n",
    "Input  : Stack[] = [1, 2, 3, 4, 5]\n",
    "Output : Stack[] = [1, 2, 4, 5]\n",
    "Input  : Stack[] = [1, 2, 3, 4, 5, 6]\n",
    "Output : Stack[] = [1, 2, 4, 5, 6]\n"
   ]
  },
  {
   "cell_type": "code",
   "execution_count": 3,
   "id": "e3ebef47",
   "metadata": {},
   "outputs": [
    {
     "name": "stdout",
     "output_type": "stream",
     "text": [
      "[1, 3, 4, 5]\n",
      "[1, 3, 4, 5, 6]\n"
     ]
    }
   ],
   "source": [
    "def delete_middle(stack, k):\n",
    "    # Base case: stack is empty or k becomes 0\n",
    "    if len(stack) == 0 or k == 0:\n",
    "        stack.pop()\n",
    "        return\n",
    "\n",
    "    # Remove the top element\n",
    "    temp = stack.pop()\n",
    "\n",
    "    # Recursively delete the middle element\n",
    "    delete_middle(stack, k - 1)\n",
    "\n",
    "    # Push back the removed element\n",
    "    stack.append(temp)\n",
    "\n",
    "\n",
    "def delete_middle_element(stack):\n",
    "    # Calculate the middle position\n",
    "    k = (len(stack) // 2) + 1\n",
    "\n",
    "    # Delete the middle element\n",
    "    delete_middle(stack, k)\n",
    "\n",
    "\n",
    "# Example test cases\n",
    "stack1 = [1, 2, 3, 4, 5]\n",
    "delete_middle_element(stack1)\n",
    "print(stack1)\n",
    "# Output: [1, 2, 4, 5]\n",
    "\n",
    "stack2 = [1, 2, 3, 4, 5, 6]\n",
    "delete_middle_element(stack2)\n",
    "print(stack2)\n",
    "# Output: [1, 2, 4, 5, 6]\n"
   ]
  },
  {
   "cell_type": "markdown",
   "id": "7c5f0e76",
   "metadata": {},
   "source": [
    " Question 4\n",
    "Given a Queue consisting of first n natural numbers (in random order). The task is to check whether the given Queue elements can be arranged in increasing order in another Queue using a stack. The operation allowed are:\n",
    "1.\tPush and pop elements from the stack\n",
    "2.\tPop (Or Dequeue) from the given Queue.\n",
    "3.\tPush (Or Enqueue) in the another Queue.\n",
    "Examples :\n",
    "Input : Queue[] = { 5, 1, 2, 3, 4 }\n",
    "Output : Yes\n",
    "Pop the first element of the given Queue\n",
    "i.e 5. Push 5 into the stack.\n",
    "Now, pop all the elements of the given Queue and push them to second Queue.\n",
    "Now, pop element 5 in the stack and push it to the second Queue.\n",
    "Input : Queue[] = { 5, 1, 2, 6, 3, 4 }\n",
    "Output : No\n",
    "Push 5 to stack.\n",
    "Pop 1, 2 from given Queue and push it to another Queue.\n",
    "Pop 6 from given Queue and push to stack.\n",
    "Pop 3, 4 from given Queue and push to second Queue.\n",
    "Now, from using any of above operation, we cannot push 5 into the second Queue because it is below the 6 in the stack.\n"
   ]
  },
  {
   "cell_type": "code",
   "execution_count": 4,
   "id": "76d68502",
   "metadata": {},
   "outputs": [
    {
     "name": "stdout",
     "output_type": "stream",
     "text": [
      "Yes\n",
      "No\n"
     ]
    }
   ],
   "source": [
    "def check_queue_arrangement(queue):\n",
    "    stack = []\n",
    "    second_queue = []\n",
    "    expected_element = 1\n",
    "\n",
    "    while queue:\n",
    "        if queue[0] == expected_element:\n",
    "            second_queue.append(queue.pop(0))\n",
    "            expected_element += 1\n",
    "        elif stack and stack[-1] == expected_element:\n",
    "            second_queue.append(stack.pop())\n",
    "            expected_element += 1\n",
    "        else:\n",
    "            stack.append(queue.pop(0))\n",
    "\n",
    "    while stack:\n",
    "        if stack[-1] == expected_element:\n",
    "            second_queue.append(stack.pop())\n",
    "            expected_element += 1\n",
    "        else:\n",
    "            return \"No\"\n",
    "\n",
    "    return \"Yes\"\n",
    "\n",
    "\n",
    "# Example test cases\n",
    "queue1 = [5, 1, 2, 3, 4]\n",
    "print(check_queue_arrangement(queue1))\n",
    "# Output: Yes\n",
    "\n",
    "queue2 = [5, 1, 2, 6, 3, 4]\n",
    "print(check_queue_arrangement(queue2))\n",
    "# Output: No\n"
   ]
  },
  {
   "cell_type": "markdown",
   "id": "2b258146",
   "metadata": {},
   "source": [
    "Question 5\n",
    "Given a number , write a program to reverse this number using stack.\n",
    "Examples:\n",
    "Input : 365\n",
    "Output : 563\n",
    "\n",
    "Input : 6899\n",
    "Output : 9986\n",
    "\n"
   ]
  },
  {
   "cell_type": "code",
   "execution_count": 5,
   "id": "a0246989",
   "metadata": {},
   "outputs": [
    {
     "name": "stdout",
     "output_type": "stream",
     "text": [
      "Enter a number: 365\n",
      "563\n"
     ]
    }
   ],
   "source": [
    "# Create an empty stack\n",
    "stack = []\n",
    "\n",
    "# Prompt the user to enter a number\n",
    "number = int(input(\"Enter a number: \"))\n",
    "\n",
    "# Convert the number to a string and iterate through each digit\n",
    "for digit in str(number):\n",
    "    # Push each digit onto the stack\n",
    "    stack.append(digit)\n",
    "\n",
    "# Initialize an empty string to store the reversed number\n",
    "reversed_number = \"\"\n",
    "\n",
    "# Pop each digit from the stack and append it to the reversed number string\n",
    "while stack:\n",
    "    reversed_number += stack.pop()\n",
    "\n",
    "# Convert the reversed number string back to an integer\n",
    "reversed_number = int(reversed_number)\n",
    "\n",
    "# Print the reversed number\n",
    "print(reversed_number)\n",
    "\n",
    "# Output\n",
    "# Enter a number: 365\n",
    "# 563\n",
    "\n",
    "# Enter a number: 6899\n",
    "# 9986"
   ]
  },
  {
   "cell_type": "markdown",
   "id": "292ac85a",
   "metadata": {},
   "source": [
    " Question 6\n",
    "Given an integer k and a queue of integers, The task is to reverse the order of the first k elements of the queue, leaving the other elements in the same relative order.\n",
    "Only following standard operations are allowed on queue.\n",
    "•\tenqueue(x) : Add an item x to rear of queue\n",
    "•\tdequeue() : Remove an item from front of queue\n",
    "•\tsize() : Returns number of elements in queue.\n",
    "•\tfront() : Finds front item. \n",
    "\n"
   ]
  },
  {
   "cell_type": "code",
   "execution_count": 6,
   "id": "831466f5",
   "metadata": {},
   "outputs": [
    {
     "name": "stdout",
     "output_type": "stream",
     "text": [
      "5\n",
      "4\n",
      "3\n",
      "2\n",
      "1\n",
      "6\n",
      "7\n",
      "8\n"
     ]
    }
   ],
   "source": [
    "from queue import Queue\n",
    "\n",
    "def reverse_queue_elements(queue, k):\n",
    "    # Check if k is valid\n",
    "    if k < 0 or k > queue.qsize():\n",
    "        return queue\n",
    "\n",
    "    stack = []\n",
    "    \n",
    "    # Dequeue the first k elements and push them onto a stack\n",
    "    for _ in range(k):\n",
    "        stack.append(queue.get())\n",
    "\n",
    "    # Enqueue the elements from the stack back into the queue\n",
    "    while stack:\n",
    "        queue.put(stack.pop())\n",
    "\n",
    "    # Move the remaining elements in the queue to the end\n",
    "    for _ in range(queue.qsize() - k):\n",
    "        queue.put(queue.get())\n",
    "\n",
    "    return queue\n",
    "\n",
    "\n",
    "# Example usage:\n",
    "\n",
    "# Create a queue\n",
    "queue = Queue()\n",
    "\n",
    "# Enqueue elements to the queue\n",
    "queue.put(1)\n",
    "queue.put(2)\n",
    "queue.put(3)\n",
    "queue.put(4)\n",
    "queue.put(5)\n",
    "queue.put(6)\n",
    "queue.put(7)\n",
    "queue.put(8)\n",
    "\n",
    "# Specify the value of k\n",
    "k = 5\n",
    "\n",
    "# Reverse the order of the first k elements in the queue\n",
    "reversed_queue = reverse_queue_elements(queue, k)\n",
    "\n",
    "# Print the elements in the reversed queue\n",
    "while not reversed_queue.empty():\n",
    "    print(reversed_queue.get())\n"
   ]
  },
  {
   "cell_type": "markdown",
   "id": "723ca389",
   "metadata": {},
   "source": [
    "Question 7\n",
    "Given a sequence of n strings, the task is to check if any two similar words come together and then destroy each other then print the number of words left in the sequence after this pairwise destruction.\n",
    "Examples:\n",
    "Input : ab aa aa bcd ab\n",
    "Output : 3\n",
    "As aa, aa destroys each other so,\n",
    "ab bcd ab is the new sequence.\n",
    "Input :  tom jerry jerry tom\n",
    "Output : 0\n",
    "As first both jerry will destroy each other.\n",
    "Then sequence will be tom, tom they will also destroy\n",
    "each other. So, the final sequence doesn’t contain any\n",
    "word.\n"
   ]
  },
  {
   "cell_type": "code",
   "execution_count": 7,
   "id": "bae4f199",
   "metadata": {},
   "outputs": [
    {
     "name": "stdout",
     "output_type": "stream",
     "text": [
      "3\n"
     ]
    }
   ],
   "source": [
    "def pairwise_destruction(sequence):\n",
    "    stack = []\n",
    "    \n",
    "    for word in sequence:\n",
    "        if not stack or stack[-1] != word:\n",
    "            stack.append(word)\n",
    "        else:\n",
    "            stack.pop()\n",
    "\n",
    "    return len(stack)\n",
    "\n",
    "\n",
    "# Example usage:\n",
    "\n",
    "# Input sequence\n",
    "sequence = ['ab', 'aa', 'aa', 'bcd', 'ab']\n",
    "\n",
    "# Perform pairwise destruction\n",
    "remaining_words = pairwise_destruction(sequence)\n",
    "\n",
    "# Print the number of words left in the sequence\n",
    "print(remaining_words)\n"
   ]
  },
  {
   "cell_type": "markdown",
   "id": "3624a6c3",
   "metadata": {},
   "source": [
    "Question 8\n",
    "Given an array of integers, the task is to find the maximum absolute difference between the nearest left and the right smaller element of every element in the array.\n",
    "Note: If there is no smaller element on right side or left side of any element then we take zero as the smaller element. For example for the leftmost element, the nearest smaller element on the left side is considered as 0. Similarly, for rightmost elements, the smaller element on the right side is considered as 0\n",
    "Examples:\n",
    "\n",
    "Input : arr[] = {2, 1, 8}\n",
    "Output : 1\n",
    "Left smaller  LS[] {0, 0, 1}\n",
    "Right smaller RS[] {1, 0, 0}\n",
    "Maximum Diff of abs(LS[i] - RS[i]) = 1\n",
    "\n",
    "Input  : arr[] = {2, 4, 8, 7, 7, 9, 3}\n",
    "Output : 4\n",
    "Left smaller   LS[] = {0, 2, 4, 4, 4, 7, 2}\n",
    "Right smaller  RS[] = {0, 3, 7, 3, 3, 3, 0}\n",
    "Maximum Diff of abs(LS[i] - RS[i]) = 7 - 3 = 4\n",
    "\n",
    "Input : arr[] = {5, 1, 9, 2, 5, 1, 7}\n",
    "Output : 1\n",
    "\n"
   ]
  },
  {
   "cell_type": "code",
   "execution_count": null,
   "id": "aba4248f",
   "metadata": {},
   "outputs": [],
   "source": [
    "def find_max_absolute_difference(arr):\n",
    "    n = len(arr)\n",
    "\n",
    "    # Step 1: Initialize LS[] and RS[] arrays\n",
    "    LS = [0] * n\n",
    "    RS = [0] * n\n",
    "\n",
    "    # Step 2: Fill LS[] array\n",
    "    stack = []\n",
    "    for i in range(n):\n",
    "        while stack and arr[i] <= arr[stack[-1]]:\n",
    "            stack.pop()\n",
    "        if stack:\n",
    "            LS[i] = arr[stack[-1]]\n",
    "        stack.append(i)\n",
    "\n",
    "    # Step 3: Fill RS[] array\n",
    "    stack = []\n",
    "    for i in range(n - 1, -1, -1):\n",
    "        while stack and arr[i] <= arr[stack[-1]]:\n",
    "            stack.pop()\n",
    "        if stack:\n",
    "            RS[i] = arr[stack[-1]]\n",
    "        stack.append(i)\n",
    "\n",
    "    # Step 4: Find the maximum absolute difference\n",
    "    max_diff = 0\n",
    "    for i in range(n):\n",
    "        max_diff = max(max_diff, abs(LS[i] - RS[i]))\n",
    "\n",
    "    return max_diff\n",
    "\n",
    "# Examples\n",
    "arr1 = [2, 1, 8]\n",
    "print(find_max_absolute_difference(arr1))  # Output: 1\n",
    "\n",
    "arr2 = [2, 4, 8, 7, 7, 9, 3]\n",
    "print(find_max_absolute_difference(arr2))  # Output: 4\n",
    "\n",
    "arr3 = [5, 1, 9, 2, 5, 1, 7]\n",
    "print(find_max_absolute_difference(arr3))  # Output: 1\n",
    "\n",
    "# Output:\n",
    "# 1\n",
    "# 4\n",
    "# 1    \n",
    "\n"
   ]
  },
  {
   "cell_type": "code",
   "execution_count": null,
   "id": "fbb54d64",
   "metadata": {},
   "outputs": [],
   "source": []
  }
 ],
 "metadata": {
  "kernelspec": {
   "display_name": "Python 3 (ipykernel)",
   "language": "python",
   "name": "python3"
  },
  "language_info": {
   "codemirror_mode": {
    "name": "ipython",
    "version": 3
   },
   "file_extension": ".py",
   "mimetype": "text/x-python",
   "name": "python",
   "nbconvert_exporter": "python",
   "pygments_lexer": "ipython3",
   "version": "3.9.12"
  }
 },
 "nbformat": 4,
 "nbformat_minor": 5
}
