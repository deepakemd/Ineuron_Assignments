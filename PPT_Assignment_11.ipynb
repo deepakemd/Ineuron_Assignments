{
 "cells": [
  {
   "cell_type": "markdown",
   "id": "3d28da7b",
   "metadata": {},
   "source": [
    "# Assignment 11"
   ]
  },
  {
   "cell_type": "markdown",
   "id": "69143809",
   "metadata": {},
   "source": [
    "Question 1\n",
    "Given a non-negative integer x, return the square root of x rounded down to the nearest integer. The returned integer should be non-negative as well.\n",
    "You must not use any built-in exponent function or operator.\n",
    "•\tFor example, do not use pow(x, 0.5) in c++ or x ** 0.5 in python. </aside>\n",
    "Example 1:\n",
    "Input: x = 4\n",
    "Output: 2\n",
    "Explanation: The square root of 4 is 2, so we return 2.\n",
    "\n",
    "Example 2:\n",
    "Input: x = 8\n",
    "Output: 2\n",
    "Explanation: The square root of 8 is 2.82842..., and since we round it down to the nearest integer, 2 is returned.\n"
   ]
  },
  {
   "cell_type": "code",
   "execution_count": 1,
   "id": "d7305812",
   "metadata": {},
   "outputs": [
    {
     "name": "stdout",
     "output_type": "stream",
     "text": [
      "2\n",
      "2\n"
     ]
    }
   ],
   "source": [
    "def mySqrt(x):\n",
    "    if x == 0:\n",
    "        return 0\n",
    "\n",
    "    left, right = 1, x\n",
    "    while left <= right:\n",
    "        mid = (left + right) // 2\n",
    "        if mid * mid > x:\n",
    "            right = mid - 1\n",
    "        else:\n",
    "            left = mid + 1\n",
    "\n",
    "    return left - 1\n",
    "\n",
    "print(mySqrt(4))  # Output: 2\n",
    "print(mySqrt(8))  # Output: 2\n"
   ]
  },
  {
   "cell_type": "markdown",
   "id": "6ccd3e51",
   "metadata": {},
   "source": [
    "Question 2\n",
    "A peak element is an element that is strictly greater than its neighbors.\n",
    "Given a 0-indexed integer array nums, find a peak element, and return its index. If the array contains multiple peaks, return the index to any of the peaks.\n",
    "You may imagine that nums[-1] = nums[n] = -∞. In other words, an element is always considered to be strictly greater than a neighbor that is outside the array.\n",
    "You must write an algorithm that runs in O(log n) time.\n",
    "Example 1:\n",
    "Input: nums = [1,2,3,1]\t\n",
    "Output: 2\n",
    "Explanation: 3 is a peak element and your function should return the index number 2.\n",
    "\n",
    "Example 2:\n",
    "Input: nums = [1,2,1,3,5,6,4]\n",
    "Output: 5\n",
    "Explanation: Your function can return either index number 1 where the peak element is 2, or index number 5 where the peak element is 6.\n"
   ]
  },
  {
   "cell_type": "code",
   "execution_count": 2,
   "id": "f3b92945",
   "metadata": {},
   "outputs": [
    {
     "name": "stdout",
     "output_type": "stream",
     "text": [
      "2\n",
      "5\n"
     ]
    }
   ],
   "source": [
    "def findPeakElement(nums):\n",
    "    left, right = 0, len(nums) - 1\n",
    "\n",
    "    while left < right:\n",
    "        mid = (left + right) // 2\n",
    "\n",
    "        if nums[mid] < nums[mid + 1]:\n",
    "            left = mid + 1\n",
    "        else:\n",
    "            right = mid\n",
    "\n",
    "    return left\n",
    "\n",
    "print(findPeakElement([1, 2, 3, 1]))  # Output: 2\n",
    "print(findPeakElement([1, 2, 1, 3, 5, 6, 4]))  # Output: 5\n"
   ]
  },
  {
   "cell_type": "markdown",
   "id": "81a012b2",
   "metadata": {},
   "source": [
    "Question 3\n",
    "Given an array nums containing n distinct numbers in the range [0, n], return the only number in the range that is missing from the array.\n",
    "Example 1:\n",
    "Input: nums = [3,0,1]\n",
    "Output: 2\n",
    "Explanation: n = 3 since there are 3 numbers, so all numbers are in the range [0,3]. 2 is the missing number in the range since it does not appear in nums.\n",
    "Example 2:\n",
    "Input: nums = [0,1]\n",
    "Output: 2\n",
    "Explanation: n = 2 since there are 2 numbers, so all numbers are in the range [0,2]. 2 is the missing number in the range since it does not appear in nums.\n",
    "\n",
    "Example 3:\n",
    "Input: nums = [9,6,4,2,3,5,7,0,1]\n",
    "Output: 8\n",
    "Explanation: n = 9 since there are 9 numbers, so all numbers are in the range [0,9]. 8 is the missing number in the range since it does not appear in nums.\n"
   ]
  },
  {
   "cell_type": "code",
   "execution_count": 3,
   "id": "3751ba59",
   "metadata": {},
   "outputs": [
    {
     "name": "stdout",
     "output_type": "stream",
     "text": [
      "2\n",
      "2\n",
      "8\n"
     ]
    }
   ],
   "source": [
    "def missingNumber(nums):\n",
    "    n = len(nums)\n",
    "    expected_sum = n * (n + 1) // 2\n",
    "    actual_sum = sum(nums)\n",
    "    return expected_sum - actual_sum\n",
    "\n",
    "\n",
    "print(missingNumber([3, 0, 1]))  # Output: 2\n",
    "print(missingNumber([0, 1]))  # Output: 2\n",
    "print(missingNumber([9, 6, 4, 2, 3, 5, 7, 0, 1]))  # Output: 8\n"
   ]
  },
  {
   "cell_type": "markdown",
   "id": "c6831465",
   "metadata": {},
   "source": [
    "Question 4\n",
    "Given an array of integers nums containing n + 1 integers where each integer is in the range [1, n] inclusive.\n",
    "There is only one repeated number in nums, return this repeated number.\n",
    "You must solve the problem without modifying the array nums and uses only constant extra space.\n",
    "Example 1:\n",
    "Input: nums = [1,3,4,2,2]\n",
    "Output: 2\n",
    "\n",
    "Example 2:\n",
    "Input: nums = [3,1,3,4,2]\n",
    "Output: 3\n"
   ]
  },
  {
   "cell_type": "code",
   "execution_count": 4,
   "id": "5da5a8a3",
   "metadata": {},
   "outputs": [
    {
     "name": "stdout",
     "output_type": "stream",
     "text": [
      "2\n",
      "3\n"
     ]
    }
   ],
   "source": [
    "def findDuplicate(nums):\n",
    "    slow = nums[0]\n",
    "    fast = nums[0]\n",
    "\n",
    "    # Find the intersection point of the two pointers\n",
    "    while True:\n",
    "        slow = nums[slow]\n",
    "        fast = nums[nums[fast]]\n",
    "        if slow == fast:\n",
    "            break\n",
    "    # Move one pointer to the beginning\n",
    "    slow = nums[0]\n",
    "\n",
    "    # Move both pointers at the same pace until they meet\n",
    "    while slow != fast:\n",
    "        slow = nums[slow]\n",
    "        fast = nums[fast]\n",
    "\n",
    "    return slow\n",
    "\n",
    "print(findDuplicate([1, 3, 4, 2, 2]))  # Output: 2\n",
    "print(findDuplicate([3, 1, 3, 4, 2]))  # Output: 3\n"
   ]
  },
  {
   "cell_type": "code",
   "execution_count": null,
   "id": "998b836b",
   "metadata": {},
   "outputs": [],
   "source": [
    "Question 5\n",
    "Given two integer arrays nums1 and nums2, return an array of their intersection. Each element in the result must be unique and you may return the result in any order.\n",
    "Example 1:\n",
    "Input: nums1 = [1,2,2,1], nums2 = [2,2]\n",
    "Output: [2]\n",
    "\n",
    "Example 2:\n",
    "Input: nums1 = [4,9,5], nums2 = [9,4,9,8,4]\n",
    "Output: [9,4]\n",
    "Explanation: [4,9] is also accepted\n"
   ]
  },
  {
   "cell_type": "code",
   "execution_count": 5,
   "id": "3e945e44",
   "metadata": {},
   "outputs": [
    {
     "name": "stdout",
     "output_type": "stream",
     "text": [
      "[2]\n",
      "[9, 4]\n"
     ]
    }
   ],
   "source": [
    "def intersection(nums1, nums2):\n",
    "    set1 = set(nums1)\n",
    "    set2 = set(nums2)\n",
    "    return list(set1.intersection(set2))\n",
    "\n",
    "print(intersection([1, 2, 2, 1], [2, 2]))  # Output: [2]\n",
    "print(intersection([4, 9, 5], [9, 4, 9, 8, 4]))  # Output: [9, 4\n"
   ]
  },
  {
   "cell_type": "markdown",
   "id": "076bb6b2",
   "metadata": {},
   "source": [
    "Question 6\n",
    "Suppose an array of length n sorted in ascending order is rotated between 1 and n times. For example, the array nums = [0,1,2,4,5,6,7] might become:\n",
    "•\t[4,5,6,7,0,1,2] if it was rotated 4 times.\n",
    "•\t[0,1,2,4,5,6,7] if it was rotated 7 times.\n",
    "Notice that rotating an array [a[0], a[1], a[2], ..., a[n-1]] 1 time results in the array [a[n-1], a[0], a[1], a[2], ..., a[n-2]].\n",
    "Given the sorted rotated array nums of unique elements, return the minimum element of this array.\n",
    "You must write an algorithm that runs in O(log n) time.\n",
    "Example 1:\n",
    "Input: nums = [3,4,5,1,2]\n",
    "Output: 1\n",
    "Explanation: The original array was [1,2,3,4,5] rotated 3 times.\n",
    "\n",
    "Example 2:\n",
    "Input: nums = [4,5,6,7,0,1,2]\n",
    "Output: 0\n",
    "Explanation: The original array was [0,1,2,4,5,6,7] and it was rotated 4 times.\n",
    "Example 3:\n",
    "Input: nums = [11,13,15,17]\n",
    "Output: 11\n",
    "Explanation: The original array was [11,13,15,17] and it was rotated 4 times.\n",
    "\n"
   ]
  },
  {
   "cell_type": "code",
   "execution_count": null,
   "id": "647ba987",
   "metadata": {},
   "outputs": [],
   "source": [
    "def findMin(nums):\n",
    "    left = 0\n",
    "    right = len(nums) - 1\n",
    "\n",
    "    # Perform binary search until left and right pointers meet\n",
    "    while left < right:\n",
    "        mid = left + (right - left) // 2\n",
    "\n",
    "        # Check if the mid element is greater than the rightmost element\n",
    "        if nums[mid] > nums[right]:\n",
    "            # The minimum element is on the right side of mid\n",
    "            left = mid + 1\n",
    "        else:\n",
    "            # The minimum element is on the left side of or equal to mid\n",
    "            right = mid\n",
    "\n",
    "    # At this point, left and right pointers have converged to the minimum element\n",
    "    return nums[left]\n",
    "\n",
    "\n",
    "print(findMin([3, 4, 5, 1, 2]))  # Output: 1\n",
    "print(findMin([4, 5, 6, 7, 0, 1, 2]))  # Output: 0\n",
    "print(findMin([11, 13, 15, 17]))  # Output: 11\n"
   ]
  },
  {
   "cell_type": "markdown",
   "id": "579eded3",
   "metadata": {},
   "source": [
    "Question 7\n",
    "Given an array of integers nums sorted in non-decreasing order, find the starting and ending position of a given target value.\n",
    "If target is not found in the array, return [-1, -1].\n",
    "You must write an algorithm with O(log n) runtime complexity.\n",
    "Example 1:\n",
    "Input: nums = [5,7,7,8,8,10], target = 8\n",
    "Output: [3,4]\n",
    "Example 2:\n",
    "Input: nums = [5,7,7,8,8,10], target = 6\n",
    "Output: [-1,-1]\n",
    "Example 3:\n",
    "Input: nums = [], target = 0\n",
    "Output: [-1,-1]\n",
    "\n"
   ]
  },
  {
   "cell_type": "code",
   "execution_count": 7,
   "id": "a5d61ac1",
   "metadata": {},
   "outputs": [
    {
     "name": "stdout",
     "output_type": "stream",
     "text": [
      "[3, 4]\n",
      "[-1, -1]\n",
      "[-1, -1]\n"
     ]
    }
   ],
   "source": [
    "\n",
    "\n",
    "def searchRange(nums, target):\n",
    "    # Helper function to find the leftmost or rightmost occurrence of the target\n",
    "    def binarySearch(nums, target, leftmost):\n",
    "        left = 0\n",
    "        right = len(nums)\n",
    "        index = -1\n",
    "\n",
    "        while left < right:\n",
    "            mid = left + (right - left) // 2\n",
    "\n",
    "            if nums[mid] > target or (leftmost and nums[mid] == target):\n",
    "                right = mid\n",
    "            else:\n",
    "                left = mid + 1\n",
    "\n",
    "            if nums[mid] == target:\n",
    "                index = mid\n",
    "\n",
    "        return index\n",
    "\n",
    "    # Find the leftmost and rightmost occurrences of the target\n",
    "    left_index = binarySearch(nums, target, True)\n",
    "    right_index = binarySearch(nums, target, False)\n",
    "\n",
    "    # Return the result as a list\n",
    "    return [left_index, right_index]\n",
    "\n",
    "\n",
    "print(searchRange([5, 7, 7, 8, 8, 10], 8))  # Output: [3, 4]\n",
    "print(searchRange([5, 7, 7, 8, 8, 10], 6))  # Output: [-1, -1]\n",
    "print(searchRange([], 0))  # Output: [-1, -1]\n"
   ]
  },
  {
   "cell_type": "markdown",
   "id": "6e9874ce",
   "metadata": {},
   "source": [
    "Question 8\n",
    "Given two integer arrays nums1 and nums2, return an array of their intersection. Each element in the result must appear as many times as it shows in both arrays and you may return the result in any order.\n",
    "Example 1:\n",
    "Input: nums1 = [1,2,2,1], nums2 = [2,2]\n",
    "Output: [2,2]\n",
    "\n",
    "Example 2:\n",
    "Input: nums1 = [4,9,5], nums2 = [9,4,9,8,4]\n",
    "Output: [4,9]\n",
    "Explanation: [9,4] is also accepted.\n"
   ]
  },
  {
   "cell_type": "code",
   "execution_count": 8,
   "id": "29819aeb",
   "metadata": {},
   "outputs": [
    {
     "name": "stdout",
     "output_type": "stream",
     "text": [
      "[2, 2]\n",
      "[9, 4]\n"
     ]
    }
   ],
   "source": [
    "from collections import defaultdict\n",
    "\n",
    "def intersect(nums1, nums2):\n",
    "    counts = defaultdict(int)  # Dictionary to store counts of elements in nums1\n",
    "\n",
    "    # Count elements in nums1\n",
    "    for num in nums1:\n",
    "        counts[num] += 1\n",
    "\n",
    "    intersection = []\n",
    "    # Find intersection while considering counts\n",
    "    for num in nums2:\n",
    "        if counts[num] > 0:\n",
    "            intersection.append(num)\n",
    "            counts[num] -= 1\n",
    "\n",
    "    return intersection\n",
    "\n",
    "\n",
    "print(intersect([1, 2, 2, 1], [2, 2]))  # Output: [2, 2]\n",
    "print(intersect([4, 9, 5], [9, 4, 9, 8, 4]))  # Output: [4, 9]\n"
   ]
  },
  {
   "cell_type": "code",
   "execution_count": null,
   "id": "094e1dc8",
   "metadata": {},
   "outputs": [],
   "source": []
  }
 ],
 "metadata": {
  "kernelspec": {
   "display_name": "Python 3 (ipykernel)",
   "language": "python",
   "name": "python3"
  },
  "language_info": {
   "codemirror_mode": {
    "name": "ipython",
    "version": 3
   },
   "file_extension": ".py",
   "mimetype": "text/x-python",
   "name": "python",
   "nbconvert_exporter": "python",
   "pygments_lexer": "ipython3",
   "version": "3.9.12"
  }
 },
 "nbformat": 4,
 "nbformat_minor": 5
}
