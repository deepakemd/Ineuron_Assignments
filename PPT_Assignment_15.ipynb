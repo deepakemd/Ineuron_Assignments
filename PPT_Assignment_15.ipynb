{
 "cells": [
  {
   "cell_type": "markdown",
   "id": "806274dc",
   "metadata": {},
   "source": [
    "# Assignment 15"
   ]
  },
  {
   "cell_type": "markdown",
   "id": "9234ea0a",
   "metadata": {},
   "source": [
    "Question 1\n",
    "Given an array arr[ ] of size N having elements, the task is to find the next greater element for each element of the array in order of their appearance in the array.Next greater element of an element in the array is the nearest element on the right which is greater than the current element.If there does not exist next greater of current element, then next greater element for current element is -1. For example, next greater of the last element is always -1.\n",
    "Example 1:\n",
    "Input:\n",
    "N = 4, arr[] = [1 3 2 4]\n",
    "Output:\n",
    "3 4 4 -1\n",
    "Explanation:\n",
    "In the array, the next larger element\n",
    "to 1 is 3 , 3 is 4 , 2 is 4 and for 4 ?\n",
    "since it doesn't exist, it is -1.\n",
    "\n",
    "Example 2:\n",
    "Input:\n",
    "N = 5, arr[] [6 8 0 1 3]\n",
    "Output:\n",
    "8 -1 1 3 -1\n",
    "Explanation:\n",
    "In the array, the next larger element to\n",
    "6 is 8, for 8 there is no larger elements\n",
    "hence it is -1, for 0 it is 1 , for 1 it\n",
    "is 3 and then for 3 there is no larger\n",
    "element on right and hence -1.\n"
   ]
  },
  {
   "cell_type": "code",
   "execution_count": 24,
   "id": "de6a2735",
   "metadata": {},
   "outputs": [
    {
     "name": "stdout",
     "output_type": "stream",
     "text": [
      "[3, 4, 4, -1]\n",
      "[8, -1, 1, 3, -1]\n"
     ]
    }
   ],
   "source": [
    "def findNextGreaterElement(arr):\n",
    "    stack = []\n",
    "    result = []\n",
    "    n = len(arr)\n",
    "\n",
    "    # Traverse the array from right to left\n",
    "    for i in range(n - 1, -1, -1):\n",
    "\n",
    "        # Pop elements from stack while they are smaller than or equal to the current element\n",
    "        while stack and stack[-1] <= arr[i]:\n",
    "            stack.pop()\n",
    "\n",
    "        # If the stack is empty, there is no next greater element\n",
    "        if not stack:\n",
    "            result.append(-1)\n",
    "        else:\n",
    "            result.append(stack[-1])\n",
    "\n",
    "        # Push the current element onto the stack\n",
    "        stack.append(arr[i])\n",
    "\n",
    "    # Reverse the result array to obtain the elements in the original order\n",
    "    result.reverse()\n",
    "\n",
    "    return result\n",
    "\n",
    "# Example usage\n",
    "arr = [1, 3, 2, 4]\n",
    "output = findNextGreaterElement(arr)\n",
    "print(output)  # Output: [3, 4, 4, -1]\n",
    "\n",
    "arr = [6, 8, 0, 1, 3]\n",
    "output = findNextGreaterElement(arr)\n",
    "print(output)  # Output: [8, -1, 1, 3, -1]\n"
   ]
  },
  {
   "cell_type": "code",
   "execution_count": null,
   "id": "dd28473c",
   "metadata": {},
   "outputs": [],
   "source": [
    "Question 2\n",
    "Given an array a of integers of length n, find the nearest smaller number for every element such that the smaller element is on left side.If no small element present on the left print -1.\n",
    "\n",
    "Example 1:\n",
    "Input: n = 3\n",
    "a = {1, 6, 2}\n",
    "Output: -1 1 1\n",
    "Explaination: There is no number at the\n",
    "left of 1. Smaller number than 6 and 2 is 1.\n",
    "Example 2:\n",
    "Input: n = 6\n",
    "a = {1, 5, 0, 3, 4, 5}\n",
    "Output: -1 1 -1 0 3 4\n",
    "Explaination: Upto 3 it is easy to see\n",
    "the smaller numbers. But for 4 the smaller\n",
    "numbers are 1, 0 and 3. But among them 3\n",
    "is closest. Similary for 5 it is 4.\n"
   ]
  },
  {
   "cell_type": "code",
   "execution_count": 22,
   "id": "48a592df",
   "metadata": {},
   "outputs": [
    {
     "name": "stdout",
     "output_type": "stream",
     "text": [
      "Input: [1, 6, 2]\n",
      "Output: [-1, 1, 1]\n",
      "Input: [1, 5, 0, 3, 4, 5]\n",
      "Output: [-1, 1, -1, 0, 3, 4]\n"
     ]
    }
   ],
   "source": [
    "def findNearestSmaller(n, a):\n",
    "    stack = []\n",
    "    result = []\n",
    "\n",
    "    for i in range(n):\n",
    "        while stack and stack[-1] >= a[i]:\n",
    "            stack.pop()\n",
    "\n",
    "        if not stack:\n",
    "            result.append(-1)\n",
    "        else:\n",
    "            result.append(stack[-1])\n",
    "\n",
    "        stack.append(a[i])\n",
    "\n",
    "    return result\n",
    "\n",
    "n = 3\n",
    "a = [1, 6, 2]\n",
    "print(\"Input:\", a)\n",
    "output = findNearestSmaller(n, a)\n",
    "print(\"Output:\", output)\n",
    "\n",
    "n = 6\n",
    "a = [1, 5, 0, 3, 4, 5]\n",
    "print(\"Input:\", a)\n",
    "output = findNearestSmaller(n, a)\n",
    "print(\"Output:\", output)\n",
    "\n",
    "\n",
    "\n",
    "\n"
   ]
  },
  {
   "cell_type": "code",
   "execution_count": null,
   "id": "b21967ca",
   "metadata": {},
   "outputs": [],
   "source": [
    "Question 3\n",
    "Implement a Stack using two queues q1 and q2.\n",
    "Example 1:\n",
    "Input:\n",
    "push(2)\n",
    "push(3)\n",
    "pop()\n",
    "push(4)\n",
    "pop()\n",
    "Output:3 4\n",
    "Explanation:\n",
    "push(2) the stack will be {2}\n",
    "push(3) the stack will be {2 3}\n",
    "pop()   popped element will be 3 the\n",
    "        stack will be {2}\n",
    "push(4) the stack will be {2 4}\n",
    "pop()   popped element will be 4\n",
    "\n",
    "Example 2:\n",
    "Input:\n",
    "push(2)\n",
    "pop()\n",
    "pop()\n",
    "push(3)\n",
    "Output:2 -1\n"
   ]
  },
  {
   "cell_type": "code",
   "execution_count": 21,
   "id": "3db39c50",
   "metadata": {},
   "outputs": [
    {
     "name": "stdout",
     "output_type": "stream",
     "text": [
      "2\n",
      "4\n",
      "2\n",
      "-1\n"
     ]
    }
   ],
   "source": [
    "class Stack:\n",
    "    def __init__(self):\n",
    "        self.q1 = []\n",
    "        self.q2 = []\n",
    "\n",
    "    def push(self, val):\n",
    "        if not self.q1:\n",
    "            self.q1.append(val)\n",
    "        else:\n",
    "            self.q2.append(val)\n",
    "\n",
    "    def pop(self):\n",
    "        if not self.q1 and not self.q2:\n",
    "            return -1\n",
    "\n",
    "        if self.q1:\n",
    "            while len(self.q1) > 1:\n",
    "                self.q2.append(self.q1.pop(0))\n",
    "            return self.q1.pop(0)\n",
    "        else:\n",
    "            while len(self.q2) > 1:\n",
    "                self.q1.append(self.q2.pop(0))\n",
    "            return self.q2.pop(0)\n",
    "        \n",
    "stack = Stack()\n",
    "stack.push(2)\n",
    "stack.push(3)\n",
    "print(stack.pop())  # Output: 3\n",
    "stack.push(4)\n",
    "print(stack.pop())  # Output: 4\n",
    "\n",
    "stack2 = Stack()\n",
    "stack2.push(2)\n",
    "print(stack2.pop())  # Output: 2\n",
    "print(stack2.pop())  # Output: -1\n",
    "        \n",
    "\n",
    "\n"
   ]
  },
  {
   "cell_type": "markdown",
   "id": "42d86dfe",
   "metadata": {},
   "source": [
    "Question 4\n",
    "You are given a stack St. You have to reverse the stack using recursion.\n",
    "\n",
    "Example 1:\n",
    "Input:St = {3,2,1,7,6}\n",
    "Output:{6,7,1,2,3}\n",
    "\n",
    "Example 2:\n",
    "InpuOutput:{6,9,3,4}\n",
    "Output:{6,9,3,4}"
   ]
  },
  {
   "cell_type": "code",
   "execution_count": 25,
   "id": "8a45b1d6",
   "metadata": {},
   "outputs": [
    {
     "name": "stdout",
     "output_type": "stream",
     "text": [
      "Original Stack: [3, 2, 1, 7, 6]\n",
      "Reversed Stack: [6, 7, 1, 2, 3]\n",
      "Original Stack: [6, 9, 3, 4]\n",
      "Reversed Stack: [4, 3, 9, 6]\n"
     ]
    }
   ],
   "source": [
    "def reverseStack(St):\n",
    "    if len(St) <= 1:\n",
    "        return St\n",
    "    else:\n",
    "        topElement = St.pop()\n",
    "        St = reverseStack(St)\n",
    "        St = insertAtBottom(St, topElement)\n",
    "        return St\n",
    "\n",
    "def insertAtBottom(St, item):\n",
    "    if len(St) == 0:\n",
    "        St.append(item)\n",
    "    else:\n",
    "        temp = St.pop()\n",
    "        St = insertAtBottom(St, item)\n",
    "        St.append(temp)\n",
    "    return St\n",
    "\n",
    "# Example usage:\n",
    "St = [3, 2, 1, 7, 6]\n",
    "print(\"Original Stack:\", St)\n",
    "St = reverseStack(St)\n",
    "print(\"Reversed Stack:\", St)\n",
    "\n",
    "St = [6,9,3,4]\n",
    "print(\"Original Stack:\", St)\n",
    "St = reverseStack(St)\n",
    "print(\"Reversed Stack:\", St)\n"
   ]
  },
  {
   "cell_type": "markdown",
   "id": "02631c7e",
   "metadata": {},
   "source": [
    "Question 5\n",
    "You are given a string S, the task is to reverse the string using stack.\n",
    "Example 1:\n",
    "Input: S=\"GeeksforGeeks\"\n",
    "Output: skeeGrofskeeG\n",
    "Solution:\n"
   ]
  },
  {
   "cell_type": "code",
   "execution_count": 7,
   "id": "8c1709f7",
   "metadata": {},
   "outputs": [
    {
     "name": "stdout",
     "output_type": "stream",
     "text": [
      "Original String: GeeksforGeeks\n",
      "Reversed String: skeeGrofskeeG\n"
     ]
    }
   ],
   "source": [
    "def reverseString(S):\n",
    "    stack = []\n",
    "    reversed_string = \"\"\n",
    "\n",
    "    # Push each character onto the stack\n",
    "    for char in S:\n",
    "        stack.append(char)\n",
    "\n",
    "    # Pop each character from the stack and append it to the reversed_string\n",
    "    while stack:\n",
    "        reversed_string += stack.pop()\n",
    "\n",
    "    return reversed_string\n",
    "\n",
    "# Example usage:\n",
    "S = \"GeeksforGeeks\"\n",
    "print(\"Original String:\", S)\n",
    "reversed_str = reverseString(S)\n",
    "print(\"Reversed String:\", reversed_str)\n"
   ]
  },
  {
   "cell_type": "markdown",
   "id": "0f3e8268",
   "metadata": {},
   "source": [
    "Question 6\n",
    "Given string S representing a postfix expression, the task is to evaluate the expression and find the final value. Operators will only include the basic arithmetic operators like *, /, + and -.\n",
    "\n",
    "Example 1:\n",
    "Input: S = \"231*+9-\"\n",
    "Output: -4\n",
    "Explanation:\n",
    "After solving the given expression,\n",
    "we have -4 as result.\n",
    "\n",
    "Example 2:\t\n",
    "Input: S = \"123+*8-\"\n",
    "Output: -3\n",
    "Explanation:\n",
    "After solving the given postfix\n",
    "expression, we have -3 as result.\n"
   ]
  },
  {
   "cell_type": "code",
   "execution_count": 15,
   "id": "f0998a75",
   "metadata": {},
   "outputs": [
    {
     "name": "stdout",
     "output_type": "stream",
     "text": [
      "Postfix Expression: 231*+9-\n",
      "Final Value: -4\n",
      "Postfix Expression: 123+*8-\n",
      "Final Value: -3\n"
     ]
    }
   ],
   "source": [
    "def evaluatePostfixExpression(S):\n",
    "    stack = []\n",
    "\n",
    "    # Iterate through each character in the postfix expression\n",
    "    for char in S:\n",
    "        if char.isdigit():\n",
    "            # If the character is an operand, convert it to an integer and push onto the stack\n",
    "            stack.append(int(char))\n",
    "        else:\n",
    "            # If the character is an operator, pop the top two elements from the stack and perform the operation\n",
    "            operand2 = stack.pop()\n",
    "            operand1 = stack.pop()\n",
    "\n",
    "            if char == '+':\n",
    "                result = operand1 + operand2\n",
    "            elif char == '-':\n",
    "                result = operand1 - operand2\n",
    "            elif char == '*':\n",
    "                result = operand1 * operand2\n",
    "            elif char == '/':\n",
    "                result = operand1 / operand2\n",
    "\n",
    "            # Push the result back onto the stack\n",
    "            stack.append(result)\n",
    "\n",
    "    # The stack will contain only one element, which is the final result\n",
    "    return stack.pop()\n",
    "\n",
    "# Example usage:\n",
    "S = \"231*+9-\"\n",
    "print(\"Postfix Expression:\", S)\n",
    "result = evaluatePostfixExpression(S)\n",
    "print(\"Final Value:\", result)\n",
    "\n",
    "S = \"123+*8-\"\n",
    "print(\"Postfix Expression:\", S)\n",
    "result = evaluatePostfixExpression(S)\n",
    "print(\"Final Value:\", result)"
   ]
  },
  {
   "cell_type": "markdown",
   "id": "eda5143a",
   "metadata": {},
   "source": [
    "Question 7\n",
    "Design a stack that supports push, pop, top, and retrieving the minimum element in constant time.\n",
    "Implement the MinStack class:\n",
    "•\tMinStack() initializes the stack object.\n",
    "•\tvoid push(int val) pushes the element val onto the stack.\n",
    "•\tvoid pop() removes the element on the top of the stack.\n",
    "•\tint top() gets the top element of the stack.\n",
    "•\tint getMin() retrieves the minimum element in the stack.\n",
    "You must implement a solution with O(1) time complexity for each function.\n",
    "Example 1:\n",
    "Input\n",
    "[\"MinStack\",\"push\",\"push\",\"push\",\"getMin\",\"pop\",\"top\",\"getMin\"]\n",
    "[[],[-2],[0],[-3],[],[],[],[]]\n",
    "\n",
    "Output\n",
    "[null,null,null,null,-3,null,0,-2]\n",
    "\n",
    "Explanation\n",
    "MinStack minStack = new MinStack();\n",
    "minStack.push(-2);\n",
    "minStack.push(0);\n",
    "minStack.push(-3);\n",
    "minStack.getMin(); // return -3\n",
    "minStack.pop();\n",
    "minStack.top();    // return 0\n",
    "minStack.getMin(); // return -2\n"
   ]
  },
  {
   "cell_type": "code",
   "execution_count": 10,
   "id": "d5845ed5",
   "metadata": {},
   "outputs": [
    {
     "name": "stdout",
     "output_type": "stream",
     "text": [
      "-3\n",
      "0\n",
      "-2\n"
     ]
    }
   ],
   "source": [
    "class MinStack:\n",
    "    def __init__(self):\n",
    "        self.stack = []\n",
    "        self.min_stack = []  # Auxiliary stack to store minimum elements\n",
    "\n",
    "    def push(self, val):\n",
    "        self.stack.append(val)\n",
    "        if not self.min_stack or val <= self.min_stack[-1]:\n",
    "            self.min_stack.append(val)\n",
    "\n",
    "    def pop(self):\n",
    "        if self.stack:\n",
    "            popped_element = self.stack.pop()\n",
    "            if popped_element == self.min_stack[-1]:\n",
    "                self.min_stack.pop()\n",
    "\n",
    "    def top(self):\n",
    "        if self.stack:\n",
    "            return self.stack[-1]\n",
    "\n",
    "    def getMin(self):\n",
    "        if self.min_stack:\n",
    "            return self.min_stack[-1]\n",
    "\n",
    "minStack = MinStack()\n",
    "minStack.push(-2)\n",
    "minStack.push(0)\n",
    "minStack.push(-3)\n",
    "print(minStack.getMin())  # Output: -3\n",
    "minStack.pop()\n",
    "print(minStack.top())     # Output: 0\n",
    "print(minStack.getMin())  # Output: -2\n"
   ]
  },
  {
   "cell_type": "markdown",
   "id": "03d1b4ba",
   "metadata": {},
   "source": [
    "Question 8\n",
    "Given n non-negative integers representing an elevation map where the width of each bar is 1, compute how much water it can trap after raining.\n",
    "Example 1:\n",
    "Input: height = [0,1,0,2,1,0,1,3,2,1,2,1]\n",
    "Output: 6\n",
    "Explanation: The above elevation map (black section) is represented by array [0,1,0,2,1,0,1,3,2,1,2,1]. In this case, 6 units of rain water (blue section) are being trapped.\n",
    "\n",
    "Example 2:\n",
    "Input: height = [4,2,0,3,2,5]\n",
    "Output: 9\n"
   ]
  },
  {
   "cell_type": "code",
   "execution_count": 14,
   "id": "1cbf1e59",
   "metadata": {},
   "outputs": [
    {
     "name": "stdout",
     "output_type": "stream",
     "text": [
      "Elevation Map: [0, 1, 0, 2, 1, 0, 1, 3, 2, 1, 2, 1]\n",
      "Water Trapped: 6\n",
      "Elevation Map: [4, 2, 0, 3, 2, 5]\n",
      "Water Trapped: 9\n"
     ]
    }
   ],
   "source": [
    "def trap(height):\n",
    "    left = 0\n",
    "    right = len(height) - 1\n",
    "    left_max = right_max = 0\n",
    "    total_water = 0\n",
    "\n",
    "    while left < right:\n",
    "        if height[left] <= height[right]:\n",
    "            left_max = max(left_max, height[left])\n",
    "            water = left_max - height[left]\n",
    "            total_water += water\n",
    "            left += 1\n",
    "        else:\n",
    "            right_max = max(right_max, height[right])\n",
    "            water = right_max - height[right]\n",
    "            total_water += water\n",
    "            right -= 1\n",
    "\n",
    "    return total_water\n",
    "\n",
    "height = [0, 1, 0, 2, 1, 0, 1, 3, 2, 1, 2, 1]\n",
    "print(\"Elevation Map:\", height)\n",
    "water_trapped = trap(height)\n",
    "print(\"Water Trapped:\", water_trapped)\n",
    "\n",
    "height = [4,2,0,3,2,5]\n",
    "print(\"Elevation Map:\", height)\n",
    "water_trapped = trap(height)\n",
    "print(\"Water Trapped:\", water_trapped)\n"
   ]
  },
  {
   "cell_type": "code",
   "execution_count": null,
   "id": "b7436727",
   "metadata": {},
   "outputs": [],
   "source": []
  }
 ],
 "metadata": {
  "kernelspec": {
   "display_name": "Python 3 (ipykernel)",
   "language": "python",
   "name": "python3"
  },
  "language_info": {
   "codemirror_mode": {
    "name": "ipython",
    "version": 3
   },
   "file_extension": ".py",
   "mimetype": "text/x-python",
   "name": "python",
   "nbconvert_exporter": "python",
   "pygments_lexer": "ipython3",
   "version": "3.9.12"
  }
 },
 "nbformat": 4,
 "nbformat_minor": 5
}
