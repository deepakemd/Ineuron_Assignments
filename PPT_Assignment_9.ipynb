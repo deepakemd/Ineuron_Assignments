{
 "cells": [
  {
   "cell_type": "markdown",
   "id": "daea8a33",
   "metadata": {},
   "source": [
    "# Assignment 9"
   ]
  },
  {
   "cell_type": "markdown",
   "id": "6f45ae92",
   "metadata": {},
   "source": [
    "Question 1\n",
    "Given an integer n, return true if it is a power of two. Otherwise, return false.\n",
    "An integer n is a power of two, if there exists an integer x such that n == 2x.\n",
    "Example 1: Input: n = 1\n",
    "Output: true\n",
    "Example 2: Input: n = 16\n",
    "Output: true\n",
    "Example 3: Input: n = 3\n",
    "Output: false\n"
   ]
  },
  {
   "cell_type": "code",
   "execution_count": 1,
   "id": "4dd9172c",
   "metadata": {},
   "outputs": [
    {
     "name": "stdout",
     "output_type": "stream",
     "text": [
      "True\n",
      "False\n"
     ]
    }
   ],
   "source": [
    "\n",
    "def is_power_of_two(n):\n",
    "    if n == 1:\n",
    "        return True\n",
    "    elif n <= 0 or n % 2 != 0:\n",
    "        return False\n",
    "    else:\n",
    "        return is_power_of_two(n // 2)\n",
    "\n",
    "print(is_power_of_two(1))  # Output: True\n",
    "print(is_power_of_two(16))  # Output: True\n",
    "print(is_power_of_two(3))  # Output: False\n"
   ]
  },
  {
   "cell_type": "markdown",
   "id": "444760da",
   "metadata": {},
   "source": [
    "Question 2\n",
    "Given a number n, find the sum of the first natural numbers.\n",
    "Example 1:\n",
    "Input: n = 3\n",
    "Output: 6\n",
    "Example 2:\n",
    "Input : 5\n",
    "Output : 15\n",
    "\n"
   ]
  },
  {
   "cell_type": "code",
   "execution_count": 2,
   "id": "0332ccb9",
   "metadata": {},
   "outputs": [
    {
     "name": "stdout",
     "output_type": "stream",
     "text": [
      "6\n",
      "15\n"
     ]
    }
   ],
   "source": [
    "\n",
    "def sum_of_natural_numbers(n):\n",
    "    if n == 0:\n",
    "        return 0\n",
    "    else:\n",
    "        return n + sum_of_natural_numbers(n - 1)\n",
    "\n",
    "print(sum_of_natural_numbers(3))  # Output: 6\n",
    "print(sum_of_natural_numbers(5))  # Output: 15\n"
   ]
  },
  {
   "cell_type": "markdown",
   "id": "9ad2fa5b",
   "metadata": {},
   "source": [
    "Question 3\n",
    "****Given a positive integer, N. Find the factorial of N.\n",
    "Example 1:\n",
    "Input: N = 5\n",
    "Output: 120\n",
    "Example 2:\n",
    "Input: N = 4\n",
    "Output: 24\n",
    "\n"
   ]
  },
  {
   "cell_type": "code",
   "execution_count": 3,
   "id": "bb5588e2",
   "metadata": {},
   "outputs": [
    {
     "name": "stdout",
     "output_type": "stream",
     "text": [
      "120\n",
      "24\n"
     ]
    }
   ],
   "source": [
    "\n",
    "def factorial(n):\n",
    "    if n == 0:\n",
    "        return 1\n",
    "    else:\n",
    "        return n * factorial(n - 1)\n",
    "\n",
    "print(factorial(5))  # Output: 120\n",
    "print(factorial(4))  # Output: 24\n"
   ]
  },
  {
   "cell_type": "markdown",
   "id": "11fc79a8",
   "metadata": {},
   "source": [
    " Question 4\n",
    "Given a number N and a power P, the task is to find the exponent of this number raised to the given power, i.e. N^P.\n",
    "Example 1 :\n",
    "Input: N = 5, P = 2\n",
    "Output: 25\n",
    "Example 2 : Input: N = 2, P = 5\n",
    "Output: 32\n"
   ]
  },
  {
   "cell_type": "code",
   "execution_count": 4,
   "id": "1ba717f0",
   "metadata": {},
   "outputs": [
    {
     "name": "stdout",
     "output_type": "stream",
     "text": [
      "25\n",
      "32\n"
     ]
    }
   ],
   "source": [
    "\n",
    "def power(N, P):\n",
    "    if P == 0:\n",
    "        return 1\n",
    "    else:\n",
    "        return N * power(N, P - 1)\n",
    "\n",
    "print(power(5, 2))  # Output: 25\n",
    "print(power(2, 5))  # Output: 32\n"
   ]
  },
  {
   "cell_type": "markdown",
   "id": "f8f261fa",
   "metadata": {},
   "source": [
    " Question 5\n",
    "Given an array of integers arr, the task is to find maximum element of that array using recursion.\n",
    "Example 1:\n",
    "Input: arr = {1, 4, 3, -5, -4, 8, 6}; Output: 8\n",
    "Example 2:\n",
    "Input: arr = {1, 4, 45, 6, 10, -8}; Output: 45\n",
    "\n"
   ]
  },
  {
   "cell_type": "code",
   "execution_count": 5,
   "id": "11290fd9",
   "metadata": {},
   "outputs": [
    {
     "name": "stdout",
     "output_type": "stream",
     "text": [
      "8\n",
      "45\n"
     ]
    }
   ],
   "source": [
    "\n",
    "def max_element(arr):\n",
    "    if len(arr) == 1:\n",
    "        return arr[0]\n",
    "    else:\n",
    "        return max(arr[0], max_element(arr[1:]))\n",
    "\n",
    "\n",
    "arr1 = [1, 4, 3, -5, -4, 8, 6]\n",
    "arr2 = [1, 4, 45, 6, 10, -8]\n",
    "\n",
    "print(max_element(arr1))  # Output: 8\n",
    "print(max_element(arr2))  # Output: 45\n"
   ]
  },
  {
   "cell_type": "markdown",
   "id": "4b0857d9",
   "metadata": {},
   "source": [
    "Question 6\n",
    "Given first term (a), common difference (d) and a integer N of the Arithmetic Progression series, the task is to find Nth term of the series.\n",
    "Example 1:\n",
    "Input : a = 2 d = 1 N = 5 Output : 6 The 5th term of the series is : 6\n",
    "Example 2:\n",
    "Input : a = 5 d = 2 N = 10 Output : 23 The 10th term of the series is : 23\n",
    "\n"
   ]
  },
  {
   "cell_type": "code",
   "execution_count": 6,
   "id": "34e5da98",
   "metadata": {},
   "outputs": [
    {
     "name": "stdout",
     "output_type": "stream",
     "text": [
      "6\n",
      "23\n"
     ]
    }
   ],
   "source": [
    "\n",
    "def nth_term_of_ap(a, d, N):\n",
    "    return a + (N - 1) * d\n",
    "\n",
    "print(nth_term_of_ap(2, 1, 5))  # Output: 6\n",
    "print(nth_term_of_ap(5, 2, 10))  # Output: 23\n"
   ]
  },
  {
   "cell_type": "markdown",
   "id": "e3b4cf7d",
   "metadata": {},
   "source": [
    "Question 7\n",
    "Given a string S, the task is to write a program to print all permutations of a given string.\n",
    "Example 1:\n",
    "Input:\n",
    "S = “ABC”\n",
    "Output:\n",
    "“ABC”, “ACB”, “BAC”, “BCA”, “CBA”, “CAB”\n",
    "Example 2:\n",
    "Input:\n",
    "S = “XY”\n",
    "Output:\n",
    "“XY”, “YX”\n"
   ]
  },
  {
   "cell_type": "code",
   "execution_count": 7,
   "id": "7652dda8",
   "metadata": {},
   "outputs": [
    {
     "name": "stdout",
     "output_type": "stream",
     "text": [
      "ABC\n",
      "ACB\n",
      "BAC\n",
      "BCA\n",
      "CBA\n",
      "CAB\n",
      "XY\n",
      "YX\n"
     ]
    }
   ],
   "source": [
    "\n",
    "def permute(s, left, right):\n",
    "    if left == right:\n",
    "        print(\"\".join(s))\n",
    "    else:\n",
    "        for i in range(left, right + 1):\n",
    "            s[left], s[i] = s[i], s[left]  # Swap characters\n",
    "            permute(s, left + 1, right)  # Recurse on the remaining characters\n",
    "            s[left], s[i] = s[i], s[left]  # Restore the original order\n",
    "\n",
    "def print_permutations(string):\n",
    "    n = len(string)\n",
    "    s = list(string)\n",
    "    permute(s, 0, n - 1)\n",
    "\n",
    "print_permutations(\"ABC\")\n",
    "print_permutations(\"XY\")\n"
   ]
  },
  {
   "cell_type": "markdown",
   "id": "44f1cc5b",
   "metadata": {},
   "source": [
    "Question 8\n",
    "Given an array, find a product of all array elements.\n",
    "Example 1:\n",
    "Input : arr[] = {1, 2, 3, 4, 5} Output : 120 Example 2:\n",
    "Input : arr[] = {1, 6, 3} Output : 18\n",
    "\n"
   ]
  },
  {
   "cell_type": "code",
   "execution_count": 8,
   "id": "5dab58b2",
   "metadata": {},
   "outputs": [
    {
     "name": "stdout",
     "output_type": "stream",
     "text": [
      "120\n",
      "18\n"
     ]
    }
   ],
   "source": [
    "\n",
    "def product_of_array(arr):\n",
    "    product = 1\n",
    "    for num in arr:\n",
    "        product *= num\n",
    "    return product\n",
    "\n",
    "arr1 = [1, 2, 3, 4, 5]\n",
    "arr2 = [1, 6, 3]\n",
    "\n",
    "print(product_of_array(arr1))  # Output: 120\n",
    "print(product_of_array(arr2))  # Output: 18\n"
   ]
  },
  {
   "cell_type": "code",
   "execution_count": null,
   "id": "4135b8b4",
   "metadata": {},
   "outputs": [],
   "source": []
  }
 ],
 "metadata": {
  "kernelspec": {
   "display_name": "Python 3 (ipykernel)",
   "language": "python",
   "name": "python3"
  },
  "language_info": {
   "codemirror_mode": {
    "name": "ipython",
    "version": 3
   },
   "file_extension": ".py",
   "mimetype": "text/x-python",
   "name": "python",
   "nbconvert_exporter": "python",
   "pygments_lexer": "ipython3",
   "version": "3.9.12"
  }
 },
 "nbformat": 4,
 "nbformat_minor": 5
}
